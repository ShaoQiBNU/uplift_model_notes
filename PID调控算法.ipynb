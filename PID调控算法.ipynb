{
  "nbformat": 4,
  "nbformat_minor": 0,
  "metadata": {
    "colab": {
      "provenance": []
    },
    "kernelspec": {
      "name": "python3",
      "display_name": "Python 3"
    },
    "language_info": {
      "name": "python"
    }
  },
  "cells": [
    {
      "cell_type": "code",
      "execution_count": 126,
      "metadata": {
        "id": "e4WNZwpYKBP1"
      },
      "outputs": [],
      "source": [
        "import pandas as pd\n",
        "import random\n",
        "import matplotlib.pyplot as plt"
      ]
    },
    {
      "cell_type": "code",
      "source": [
        "# 模拟调控N天，第1天无法用PID，从第2天开始施加PID调控\n",
        "N = 10\n",
        "\n",
        "# 每天目标预算\n",
        "Budget_target = 100\n",
        "\n",
        "# 每天实际花出预算\n",
        "Budget_real = [0] * N\n",
        "Budget_real[1] = 80\n",
        "\n",
        "# 调控后每天预期预算\n",
        "Budget_expected_positional = [0] * N\n",
        "Budget_expected_incremental = [0] * N\n",
        "Budget_expected_incremental_u = [0] * N\n",
        "\n",
        "# PID系数\n",
        "kp = 0.5\n",
        "ki = 0.5\n",
        "kd = 0.5\n",
        "\n",
        "# 积分天数\n",
        "T = 3"
      ],
      "metadata": {
        "id": "O3AydEkvKEIo"
      },
      "execution_count": 127,
      "outputs": []
    },
    {
      "cell_type": "code",
      "source": [
        "# 模拟每天实际花出预算，在目标预算和预期预算之间\n",
        "def get_budget(Budget_min, Budget_max):\n",
        "  return random.uniform(Budget_min, Budget_max)"
      ],
      "metadata": {
        "id": "22SaYi6kLMkg"
      },
      "execution_count": 128,
      "outputs": []
    },
    {
      "cell_type": "code",
      "source": [
        "# 位置型PID\n",
        "def pid_positional(Budget_target, Budget_error):\n",
        "  P = Budget_error[0]\n",
        "  I = sum(Budget_error)\n",
        "  D = Budget_error[0] - Budget_error[1]\n",
        "\n",
        "  return kp * P + ki * I + kd * D"
      ],
      "metadata": {
        "id": "SCYO_CuFObCB"
      },
      "execution_count": 129,
      "outputs": []
    },
    {
      "cell_type": "code",
      "source": [
        "# 增量型PID\n",
        "def pid_incremental(Budget_target, Budget_error, u):\n",
        "\n",
        "  delta = kp * (Budget_error[0] - Budget_error[1]) + ki * Budget_error[0] + kd * (Budget_error[0] - 2 * Budget_error[1] + Budget_error[2])\n",
        "\n",
        "  return delta + u\n"
      ],
      "metadata": {
        "id": "ZLKY0Yf6OfbD"
      },
      "execution_count": 130,
      "outputs": []
    },
    {
      "cell_type": "code",
      "source": [
        " # 第2天开始PID调控\n",
        "for i in range(2, N):\n",
        "  Budget_error = []\n",
        "  for j in range(i-1, max(0, i-T), -1):\n",
        "    Budget_error.append(Budget_target - Budget_real[j])\n",
        "  if len(Budget_error) < T:\n",
        "    Budget_error = Budget_error + [0] * (T - len(Budget_error))\n",
        "\n",
        "  # 位置型PID\n",
        "  Budget_expected_positional[i] = Budget_target + pid_positional(Budget_target, Budget_error)\n",
        "  Budget_min = min(Budget_target, Budget_expected_positional[i])\n",
        "  Budget_max = max(Budget_target, Budget_expected_positional[i])\n",
        "  Budget_real[i] = get_budget(Budget_min, Budget_max)"
      ],
      "metadata": {
        "id": "HBtooSA3KguA"
      },
      "execution_count": 133,
      "outputs": []
    },
    {
      "cell_type": "code",
      "source": [
        "plt.plot([_ for _ in range(N)], Budget_expected_positional)\n"
      ],
      "metadata": {
        "colab": {
          "base_uri": "https://localhost:8080/",
          "height": 447
        },
        "id": "aOI59eVgKELA",
        "outputId": "b68a3b7b-b4e1-497b-c047-7c2c72e6499a"
      },
      "execution_count": 134,
      "outputs": [
        {
          "output_type": "execute_result",
          "data": {
            "text/plain": [
              "[<matplotlib.lines.Line2D at 0x786a23bb4b50>]"
            ]
          },
          "metadata": {},
          "execution_count": 134
        },
        {
          "output_type": "display_data",
          "data": {
            "text/plain": [
              "<Figure size 640x480 with 1 Axes>"
            ],
            "image/png": "[encoded data removed]"
          },
          "metadata": {}
        }
      ]
    },
    {
      "cell_type": "code",
      "source": [
        " # 第2天开始PID调控\n",
        "for i in range(2, N):\n",
        "  Budget_error = []\n",
        "  for j in range(i-1, max(0, i-T), -1):\n",
        "    Budget_error.append(Budget_target - Budget_real[j])\n",
        "  if len(Budget_error) < T:\n",
        "    Budget_error = Budget_error + [0] * (T - len(Budget_error))\n",
        "\n",
        "  # 增量型PID\n",
        "  Budget_expected_incremental_u[i] = pid_incremental(Budget_target, Budget_error, Budget_expected_incremental_u[i-1])\n",
        "  Budget_expected_incremental[i] = Budget_target + Budget_expected_incremental_u[i]\n",
        "  Budget_min = min(Budget_target, Budget_expected_incremental[i])\n",
        "  Budget_max = max(Budget_target, Budget_expected_incremental[i])\n",
        "  Budget_real[i] = get_budget(Budget_min, Budget_max)"
      ],
      "metadata": {
        "id": "lVTpmFqskZTA"
      },
      "execution_count": 131,
      "outputs": []
    },
    {
      "cell_type": "code",
      "source": [
        "plt.plot([_ for _ in range(N)], Budget_expected_incremental)"
      ],
      "metadata": {
        "colab": {
          "base_uri": "https://localhost:8080/",
          "height": 447
        },
        "id": "oPGz_1QdKIft",
        "outputId": "6d352c18-6cb7-462d-8493-76d614fe7200"
      },
      "execution_count": 132,
      "outputs": [
        {
          "output_type": "execute_result",
          "data": {
            "text/plain": [
              "[<matplotlib.lines.Line2D at 0x786a23d1b550>]"
            ]
          },
          "metadata": {},
          "execution_count": 132
        },
        {
          "output_type": "display_data",
          "data": {
            "text/plain": [
              "<Figure size 640x480 with 1 Axes>"
            ],
            "image/png": "[encoded data removed]"
          },
          "metadata": {}
        }
      ]
    },
    {
      "cell_type": "code",
      "source": [],
      "metadata": {
        "id": "emD9CuNLKIim"
      },
      "execution_count": null,
      "outputs": []
    }
  ]
}