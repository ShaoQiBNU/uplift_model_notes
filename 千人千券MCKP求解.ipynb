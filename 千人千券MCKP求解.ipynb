{
  "nbformat": 4,
  "nbformat_minor": 0,
  "metadata": {
    "colab": {
      "provenance": []
    },
    "kernelspec": {
      "name": "python3",
      "display_name": "Python 3"
    },
    "language_info": {
      "name": "python"
    }
  },
  "cells": [
    {
      "cell_type": "code",
      "source": [
        "!pip install pyspark"
      ],
      "metadata": {
        "colab": {
          "base_uri": "https://localhost:8080/"
        },
        "id": "uBbCebOX3qKB",
        "outputId": "99304151-8714-4180-f000-6533d88a2cd2"
      },
      "execution_count": 1,
      "outputs": [
        {
          "output_type": "stream",
          "name": "stdout",
          "text": [
            "Collecting pyspark\n",
            "  Downloading pyspark-3.4.1.tar.gz (310.8 MB)\n",
            "\u001b[2K     \u001b[90m━━━━━━━━━━━━━━━━━━━━━━━━━━━━━━━━━━━━━━━\u001b[0m \u001b[32m310.8/310.8 MB\u001b[0m \u001b[31m4.5 MB/s\u001b[0m eta \u001b[36m0:00:00\u001b[0m\n",
            "\u001b[?25h  Preparing metadata (setup.py) ... \u001b[?25l\u001b[?25hdone\n",
            "Requirement already satisfied: py4j==0.10.9.7 in /usr/local/lib/python3.10/dist-packages (from pyspark) (0.10.9.7)\n",
            "Building wheels for collected packages: pyspark\n",
            "  Building wheel for pyspark (setup.py) ... \u001b[?25l\u001b[?25hdone\n",
            "  Created wheel for pyspark: filename=pyspark-3.4.1-py2.py3-none-any.whl size=311285398 sha256=a6c87fb1a9c12811a3c88753b04fe9c6c246abbaa789a5dc16fac760b17ab215\n",
            "  Stored in directory: /root/.cache/pip/wheels/0d/77/a3/ff2f74cc9ab41f8f594dabf0579c2a7c6de920d584206e0834\n",
            "Successfully built pyspark\n",
            "Installing collected packages: pyspark\n",
            "Successfully installed pyspark-3.4.1\n"
          ]
        }
      ]
    },
    {
      "cell_type": "code",
      "source": [
        "import pandas as pd\n",
        "import random\n",
        "import os\n",
        "import sys\n",
        "from pyspark.context import SparkContext\n",
        "from pyspark.conf import SparkConf\n",
        "from pyspark.sql import SparkSession\n",
        "from pyspark.sql.types import *\n",
        "import pyspark.sql.functions as F\n",
        "import pyspark.sql.types as pst\n",
        "from pyspark.ml.feature import Bucketizer\n",
        "import copy\n",
        "import pandas as pd\n",
        "from sklearn.metrics import roc_auc_score\n",
        "from tqdm import tqdm"
      ],
      "metadata": {
        "id": "kDp7QDjw3rTM"
      },
      "execution_count": 3,
      "outputs": []
    },
    {
      "cell_type": "markdown",
      "source": [
        "**促活场景，可以不发优惠券**"
      ],
      "metadata": {
        "id": "Y0OFuQ6y2Y_W"
      }
    },
    {
      "cell_type": "code",
      "source": [
        "user_id = [3790260]*4 + [4687825]*4 + [5077519]*4 + [7927329]*4\n",
        "coupon_id = [2060114740, 1806204031, 4096652575, 1234832524] * 4\n",
        "coupon_reduce = [20, 10, 10, 0] * 4\n",
        "coupon_threshold = [60, 60, 40, -1] * 4\n",
        "is_convert = []\n",
        "control_convert = []"
      ],
      "metadata": {
        "id": "4cyzNjYmNMMS"
      },
      "execution_count": 4,
      "outputs": []
    },
    {
      "cell_type": "code",
      "source": [
        "for _ in range(4):\n",
        "  for _ in range(3):\n",
        "    is_convert.append(random.uniform(0.005, 0.3))\n",
        "  temp = random.uniform(0, 0.005)\n",
        "  is_convert.append(temp)\n",
        "  control_convert.extend([temp]*4)"
      ],
      "metadata": {
        "id": "5bm1feVsP5nW"
      },
      "execution_count": 5,
      "outputs": []
    },
    {
      "cell_type": "code",
      "source": [
        "data = {'user_id': user_id, 'coupon_id': coupon_id, 'coupon_reduce': coupon_reduce, 'coupon_threshold': coupon_threshold, 'is_convert': is_convert, 'control_convert':control_convert}"
      ],
      "metadata": {
        "id": "Trkx87-s0sdB"
      },
      "execution_count": 6,
      "outputs": []
    },
    {
      "cell_type": "code",
      "source": [
        "df_old = pd.DataFrame(data)\n",
        "df_old['expected_coupon_threshold_uplift'] = (df_old['is_convert'] - df_old['control_convert']) * df_old['coupon_threshold']\n",
        "df_old['expected_coupon_reduce'] = df_old['coupon_reduce']"
      ],
      "metadata": {
        "id": "AcXOxBGa1xJ8"
      },
      "execution_count": 7,
      "outputs": []
    },
    {
      "cell_type": "code",
      "source": [
        "df_old"
      ],
      "metadata": {
        "colab": {
          "base_uri": "https://localhost:8080/",
          "height": 551
        },
        "id": "19p2KnpR1zxj",
        "outputId": "a21d587d-9c09-49d9-9b42-fe53a0e31784"
      },
      "execution_count": 8,
      "outputs": [
        {
          "output_type": "execute_result",
          "data": {
            "text/plain": [
              "    user_id   coupon_id  coupon_reduce  coupon_threshold  is_convert  \\\n",
              "0   3790260  2060114740             20                60    0.059819   \n",
              "1   3790260  1806204031             10                60    0.173746   \n",
              "2   3790260  4096652575             10                40    0.270893   \n",
              "3   3790260  1234832524              0                -1    0.001810   \n",
              "4   4687825  2060114740             20                60    0.176561   \n",
              "5   4687825  1806204031             10                60    0.214746   \n",
              "6   4687825  4096652575             10                40    0.192932   \n",
              "7   4687825  1234832524              0                -1    0.000119   \n",
              "8   5077519  2060114740             20                60    0.275431   \n",
              "9   5077519  1806204031             10                60    0.112352   \n",
              "10  5077519  4096652575             10                40    0.171647   \n",
              "11  5077519  1234832524              0                -1    0.004548   \n",
              "12  7927329  2060114740             20                60    0.179183   \n",
              "13  7927329  1806204031             10                60    0.142773   \n",
              "14  7927329  4096652575             10                40    0.028899   \n",
              "15  7927329  1234832524              0                -1    0.004691   \n",
              "\n",
              "    control_convert  expected_coupon_threshold_uplift  expected_coupon_reduce  \n",
              "0          0.001810                          3.480527                      20  \n",
              "1          0.001810                         10.316157                      10  \n",
              "2          0.001810                         10.763316                      10  \n",
              "3          0.001810                         -0.000000                       0  \n",
              "4          0.000119                         10.586559                      20  \n",
              "5          0.000119                         12.877667                      10  \n",
              "6          0.000119                          7.712548                      10  \n",
              "7          0.000119                         -0.000000                       0  \n",
              "8          0.004548                         16.252952                      20  \n",
              "9          0.004548                          6.468229                      10  \n",
              "10         0.004548                          6.683959                      10  \n",
              "11         0.004548                         -0.000000                       0  \n",
              "12         0.004691                         10.469490                      20  \n",
              "13         0.004691                          8.284926                      10  \n",
              "14         0.004691                          0.968319                      10  \n",
              "15         0.004691                         -0.000000                       0  "
            ],
            "text/html": [
              "\n",
              "  <div id=\"df-f2eb33ff-a540-43f3-838c-85cd345870cd\">\n",
              "    <div class=\"colab-df-container\">\n",
              "      <div>\n",
              "<style scoped>\n",
              "    .dataframe tbody tr th:only-of-type {\n",
              "        vertical-align: middle;\n",
              "    }\n",
              "\n",
              "    .dataframe tbody tr th {\n",
              "        vertical-align: top;\n",
              "    }\n",
              "\n",
              "    .dataframe thead th {\n",
              "        text-align: right;\n",
              "    }\n",
              "</style>\n",
              "<table border=\"1\" class=\"dataframe\">\n",
              "  <thead>\n",
              "    <tr style=\"text-align: right;\">\n",
              "      <th></th>\n",
              "      <th>user_id</th>\n",
              "      <th>coupon_id</th>\n",
              "      <th>coupon_reduce</th>\n",
              "      <th>coupon_threshold</th>\n",
              "      <th>is_convert</th>\n",
              "      <th>control_convert</th>\n",
              "      <th>expected_coupon_threshold_uplift</th>\n",
              "      <th>expected_coupon_reduce</th>\n",
              "    </tr>\n",
              "  </thead>\n",
              "  <tbody>\n",
              "    <tr>\n",
              "      <th>0</th>\n",
              "      <td>3790260</td>\n",
              "      <td>2060114740</td>\n",
              "      <td>20</td>\n",
              "      <td>60</td>\n",
              "      <td>0.059819</td>\n",
              "      <td>0.001810</td>\n",
              "      <td>3.480527</td>\n",
              "      <td>20</td>\n",
              "    </tr>\n",
              "    <tr>\n",
              "      <th>1</th>\n",
              "      <td>3790260</td>\n",
              "      <td>1806204031</td>\n",
              "      <td>10</td>\n",
              "      <td>60</td>\n",
              "      <td>0.173746</td>\n",
              "      <td>0.001810</td>\n",
              "      <td>10.316157</td>\n",
              "      <td>10</td>\n",
              "    </tr>\n",
              "    <tr>\n",
              "      <th>2</th>\n",
              "      <td>3790260</td>\n",
              "      <td>4096652575</td>\n",
              "      <td>10</td>\n",
              "      <td>40</td>\n",
              "      <td>0.270893</td>\n",
              "      <td>0.001810</td>\n",
              "      <td>10.763316</td>\n",
              "      <td>10</td>\n",
              "    </tr>\n",
              "    <tr>\n",
              "      <th>3</th>\n",
              "      <td>3790260</td>\n",
              "      <td>1234832524</td>\n",
              "      <td>0</td>\n",
              "      <td>-1</td>\n",
              "      <td>0.001810</td>\n",
              "      <td>0.001810</td>\n",
              "      <td>-0.000000</td>\n",
              "      <td>0</td>\n",
              "    </tr>\n",
              "    <tr>\n",
              "      <th>4</th>\n",
              "      <td>4687825</td>\n",
              "      <td>2060114740</td>\n",
              "      <td>20</td>\n",
              "      <td>60</td>\n",
              "      <td>0.176561</td>\n",
              "      <td>0.000119</td>\n",
              "      <td>10.586559</td>\n",
              "      <td>20</td>\n",
              "    </tr>\n",
              "    <tr>\n",
              "      <th>5</th>\n",
              "      <td>4687825</td>\n",
              "      <td>1806204031</td>\n",
              "      <td>10</td>\n",
              "      <td>60</td>\n",
              "      <td>0.214746</td>\n",
              "      <td>0.000119</td>\n",
              "      <td>12.877667</td>\n",
              "      <td>10</td>\n",
              "    </tr>\n",
              "    <tr>\n",
              "      <th>6</th>\n",
              "      <td>4687825</td>\n",
              "      <td>4096652575</td>\n",
              "      <td>10</td>\n",
              "      <td>40</td>\n",
              "      <td>0.192932</td>\n",
              "      <td>0.000119</td>\n",
              "      <td>7.712548</td>\n",
              "      <td>10</td>\n",
              "    </tr>\n",
              "    <tr>\n",
              "      <th>7</th>\n",
              "      <td>4687825</td>\n",
              "      <td>1234832524</td>\n",
              "      <td>0</td>\n",
              "      <td>-1</td>\n",
              "      <td>0.000119</td>\n",
              "      <td>0.000119</td>\n",
              "      <td>-0.000000</td>\n",
              "      <td>0</td>\n",
              "    </tr>\n",
              "    <tr>\n",
              "      <th>8</th>\n",
              "      <td>5077519</td>\n",
              "      <td>2060114740</td>\n",
              "      <td>20</td>\n",
              "      <td>60</td>\n",
              "      <td>0.275431</td>\n",
              "      <td>0.004548</td>\n",
              "      <td>16.252952</td>\n",
              "      <td>20</td>\n",
              "    </tr>\n",
              "    <tr>\n",
              "      <th>9</th>\n",
              "      <td>5077519</td>\n",
              "      <td>1806204031</td>\n",
              "      <td>10</td>\n",
              "      <td>60</td>\n",
              "      <td>0.112352</td>\n",
              "      <td>0.004548</td>\n",
              "      <td>6.468229</td>\n",
              "      <td>10</td>\n",
              "    </tr>\n",
              "    <tr>\n",
              "      <th>10</th>\n",
              "      <td>5077519</td>\n",
              "      <td>4096652575</td>\n",
              "      <td>10</td>\n",
              "      <td>40</td>\n",
              "      <td>0.171647</td>\n",
              "      <td>0.004548</td>\n",
              "      <td>6.683959</td>\n",
              "      <td>10</td>\n",
              "    </tr>\n",
              "    <tr>\n",
              "      <th>11</th>\n",
              "      <td>5077519</td>\n",
              "      <td>1234832524</td>\n",
              "      <td>0</td>\n",
              "      <td>-1</td>\n",
              "      <td>0.004548</td>\n",
              "      <td>0.004548</td>\n",
              "      <td>-0.000000</td>\n",
              "      <td>0</td>\n",
              "    </tr>\n",
              "    <tr>\n",
              "      <th>12</th>\n",
              "      <td>7927329</td>\n",
              "      <td>2060114740</td>\n",
              "      <td>20</td>\n",
              "      <td>60</td>\n",
              "      <td>0.179183</td>\n",
              "      <td>0.004691</td>\n",
              "      <td>10.469490</td>\n",
              "      <td>20</td>\n",
              "    </tr>\n",
              "    <tr>\n",
              "      <th>13</th>\n",
              "      <td>7927329</td>\n",
              "      <td>1806204031</td>\n",
              "      <td>10</td>\n",
              "      <td>60</td>\n",
              "      <td>0.142773</td>\n",
              "      <td>0.004691</td>\n",
              "      <td>8.284926</td>\n",
              "      <td>10</td>\n",
              "    </tr>\n",
              "    <tr>\n",
              "      <th>14</th>\n",
              "      <td>7927329</td>\n",
              "      <td>4096652575</td>\n",
              "      <td>10</td>\n",
              "      <td>40</td>\n",
              "      <td>0.028899</td>\n",
              "      <td>0.004691</td>\n",
              "      <td>0.968319</td>\n",
              "      <td>10</td>\n",
              "    </tr>\n",
              "    <tr>\n",
              "      <th>15</th>\n",
              "      <td>7927329</td>\n",
              "      <td>1234832524</td>\n",
              "      <td>0</td>\n",
              "      <td>-1</td>\n",
              "      <td>0.004691</td>\n",
              "      <td>0.004691</td>\n",
              "      <td>-0.000000</td>\n",
              "      <td>0</td>\n",
              "    </tr>\n",
              "  </tbody>\n",
              "</table>\n",
              "</div>\n",
              "      <button class=\"colab-df-convert\" onclick=\"convertToInteractive('df-f2eb33ff-a540-43f3-838c-85cd345870cd')\"\n",
              "              title=\"Convert this dataframe to an interactive table.\"\n",
              "              style=\"display:none;\">\n",
              "        \n",
              "  <svg xmlns=\"http://www.w3.org/2000/svg\" height=\"24px\"viewBox=\"0 0 24 24\"\n",
              "       width=\"24px\">\n",
              "    <path d=\"M0 0h24v24H0V0z\" fill=\"none\"/>\n",
              "    <path d=\"M18.56 5.44l.94 2.06.94-2.06 2.06-.94-2.06-.94-.94-2.06-.94 2.06-2.06.94zm-11 1L8.5 8.5l.94-2.06 2.06-.94-2.06-.94L8.5 2.5l-.94 2.06-2.06.94zm10 10l.94 2.06.94-2.06 2.06-.94-2.06-.94-.94-2.06-.94 2.06-2.06.94z\"/><path d=\"M17.41 7.96l-1.37-1.37c-.4-.4-.92-.59-1.43-.59-.52 0-1.04.2-1.43.59L10.3 9.45l-7.72 7.72c-.78.78-.78 2.05 0 2.83L4 21.41c.39.39.9.59 1.41.59.51 0 1.02-.2 1.41-.59l7.78-7.78 2.81-2.81c.8-.78.8-2.07 0-2.86zM5.41 20L4 18.59l7.72-7.72 1.47 1.35L5.41 20z\"/>\n",
              "  </svg>\n",
              "      </button>\n",
              "      \n",
              "  <style>\n",
              "    .colab-df-container {\n",
              "      display:flex;\n",
              "      flex-wrap:wrap;\n",
              "      gap: 12px;\n",
              "    }\n",
              "\n",
              "    .colab-df-convert {\n",
              "      background-color: #E8F0FE;\n",
              "      border: none;\n",
              "      border-radius: 50%;\n",
              "      cursor: pointer;\n",
              "      display: none;\n",
              "      fill: #1967D2;\n",
              "      height: 32px;\n",
              "      padding: 0 0 0 0;\n",
              "      width: 32px;\n",
              "    }\n",
              "\n",
              "    .colab-df-convert:hover {\n",
              "      background-color: #E2EBFA;\n",
              "      box-shadow: 0px 1px 2px rgba(60, 64, 67, 0.3), 0px 1px 3px 1px rgba(60, 64, 67, 0.15);\n",
              "      fill: #174EA6;\n",
              "    }\n",
              "\n",
              "    [theme=dark] .colab-df-convert {\n",
              "      background-color: #3B4455;\n",
              "      fill: #D2E3FC;\n",
              "    }\n",
              "\n",
              "    [theme=dark] .colab-df-convert:hover {\n",
              "      background-color: #434B5C;\n",
              "      box-shadow: 0px 1px 3px 1px rgba(0, 0, 0, 0.15);\n",
              "      filter: drop-shadow(0px 1px 2px rgba(0, 0, 0, 0.3));\n",
              "      fill: #FFFFFF;\n",
              "    }\n",
              "  </style>\n",
              "\n",
              "      <script>\n",
              "        const buttonEl =\n",
              "          document.querySelector('#df-f2eb33ff-a540-43f3-838c-85cd345870cd button.colab-df-convert');\n",
              "        buttonEl.style.display =\n",
              "          google.colab.kernel.accessAllowed ? 'block' : 'none';\n",
              "\n",
              "        async function convertToInteractive(key) {\n",
              "          const element = document.querySelector('#df-f2eb33ff-a540-43f3-838c-85cd345870cd');\n",
              "          const dataTable =\n",
              "            await google.colab.kernel.invokeFunction('convertToInteractive',\n",
              "                                                     [key], {});\n",
              "          if (!dataTable) return;\n",
              "\n",
              "          const docLinkHtml = 'Like what you see? Visit the ' +\n",
              "            '<a target=\"_blank\" href=https://colab.research.google.com/notebooks/data_table.ipynb>data table notebook</a>'\n",
              "            + ' to learn more about interactive tables.';\n",
              "          element.innerHTML = '';\n",
              "          dataTable['output_type'] = 'display_data';\n",
              "          await google.colab.output.renderOutput(dataTable, element);\n",
              "          const docLink = document.createElement('div');\n",
              "          docLink.innerHTML = docLinkHtml;\n",
              "          element.appendChild(docLink);\n",
              "        }\n",
              "      </script>\n",
              "    </div>\n",
              "  </div>\n",
              "  "
            ]
          },
          "metadata": {},
          "execution_count": 8
        }
      ]
    },
    {
      "cell_type": "markdown",
      "source": [
        "**拉新场景，都需要发优惠券**"
      ],
      "metadata": {
        "id": "4Jh88l0t2eJ3"
      }
    },
    {
      "cell_type": "code",
      "source": [
        "user_id = [3790260]*4 + [4687825]*4 + [5077519]*4 + [7927329]*4\n",
        "coupon_id = [2060114740, 1806204031, 4096652575, 1234832524] * 4\n",
        "coupon_reduce = [20, 10, 10, 0] * 4\n",
        "coupon_threshold = [98, 98, 68, -1] * 4\n",
        "is_convert = []\n",
        "control_convert = []"
      ],
      "metadata": {
        "id": "bedQPJnA2ir9"
      },
      "execution_count": 9,
      "outputs": []
    },
    {
      "cell_type": "code",
      "source": [
        "for _ in range(4):\n",
        "  for _ in range(3):\n",
        "    is_convert.append(random.uniform(0.005, 0.3))\n",
        "  temp = 0\n",
        "  is_convert.append(temp)\n",
        "  control_convert.extend([temp]*4)"
      ],
      "metadata": {
        "id": "s1CHct4U2iuj"
      },
      "execution_count": 10,
      "outputs": []
    },
    {
      "cell_type": "code",
      "source": [
        "data = {'user_id': user_id, 'coupon_id': coupon_id, 'coupon_reduce': coupon_reduce, 'coupon_threshold': coupon_threshold, 'is_convert': is_convert, 'control_convert':control_convert}"
      ],
      "metadata": {
        "id": "P9gPphD72tCx"
      },
      "execution_count": 11,
      "outputs": []
    },
    {
      "cell_type": "code",
      "source": [
        "df_new = pd.DataFrame(data)\n",
        "df_new['expected_coupon_threshold_uplift'] = (df_new['is_convert'] - df_new['control_convert']) * df_new['coupon_threshold']\n",
        "df_new['expected_coupon_reduce'] = df_new['coupon_reduce']"
      ],
      "metadata": {
        "id": "cSpWH7RP2ugk"
      },
      "execution_count": 12,
      "outputs": []
    },
    {
      "cell_type": "code",
      "source": [
        "df_new"
      ],
      "metadata": {
        "colab": {
          "base_uri": "https://localhost:8080/",
          "height": 551
        },
        "id": "RPrx-4FU2ujI",
        "outputId": "e716499a-159b-4e10-e3ce-dc0bc3be5287"
      },
      "execution_count": 13,
      "outputs": [
        {
          "output_type": "execute_result",
          "data": {
            "text/plain": [
              "    user_id   coupon_id  coupon_reduce  coupon_threshold  is_convert  \\\n",
              "0   3790260  2060114740             20                98    0.191252   \n",
              "1   3790260  1806204031             10                98    0.207185   \n",
              "2   3790260  4096652575             10                68    0.151492   \n",
              "3   3790260  1234832524              0                -1    0.000000   \n",
              "4   4687825  2060114740             20                98    0.032649   \n",
              "5   4687825  1806204031             10                98    0.068399   \n",
              "6   4687825  4096652575             10                68    0.271954   \n",
              "7   4687825  1234832524              0                -1    0.000000   \n",
              "8   5077519  2060114740             20                98    0.233389   \n",
              "9   5077519  1806204031             10                98    0.254644   \n",
              "10  5077519  4096652575             10                68    0.124113   \n",
              "11  5077519  1234832524              0                -1    0.000000   \n",
              "12  7927329  2060114740             20                98    0.025967   \n",
              "13  7927329  1806204031             10                98    0.275715   \n",
              "14  7927329  4096652575             10                68    0.101633   \n",
              "15  7927329  1234832524              0                -1    0.000000   \n",
              "\n",
              "    control_convert  expected_coupon_threshold_uplift  expected_coupon_reduce  \n",
              "0                 0                         18.742682                      20  \n",
              "1                 0                         20.304136                      10  \n",
              "2                 0                         10.301460                      10  \n",
              "3                 0                         -0.000000                       0  \n",
              "4                 0                          3.199606                      20  \n",
              "5                 0                          6.703063                      10  \n",
              "6                 0                         18.492881                      10  \n",
              "7                 0                         -0.000000                       0  \n",
              "8                 0                         22.872091                      20  \n",
              "9                 0                         24.955114                      10  \n",
              "10                0                          8.439653                      10  \n",
              "11                0                         -0.000000                       0  \n",
              "12                0                          2.544780                      20  \n",
              "13                0                         27.020065                      10  \n",
              "14                0                          6.911041                      10  \n",
              "15                0                         -0.000000                       0  "
            ],
            "text/html": [
              "\n",
              "  <div id=\"df-9fa00832-c93d-4ea3-9d99-0039bedab779\">\n",
              "    <div class=\"colab-df-container\">\n",
              "      <div>\n",
              "<style scoped>\n",
              "    .dataframe tbody tr th:only-of-type {\n",
              "        vertical-align: middle;\n",
              "    }\n",
              "\n",
              "    .dataframe tbody tr th {\n",
              "        vertical-align: top;\n",
              "    }\n",
              "\n",
              "    .dataframe thead th {\n",
              "        text-align: right;\n",
              "    }\n",
              "</style>\n",
              "<table border=\"1\" class=\"dataframe\">\n",
              "  <thead>\n",
              "    <tr style=\"text-align: right;\">\n",
              "      <th></th>\n",
              "      <th>user_id</th>\n",
              "      <th>coupon_id</th>\n",
              "      <th>coupon_reduce</th>\n",
              "      <th>coupon_threshold</th>\n",
              "      <th>is_convert</th>\n",
              "      <th>control_convert</th>\n",
              "      <th>expected_coupon_threshold_uplift</th>\n",
              "      <th>expected_coupon_reduce</th>\n",
              "    </tr>\n",
              "  </thead>\n",
              "  <tbody>\n",
              "    <tr>\n",
              "      <th>0</th>\n",
              "      <td>3790260</td>\n",
              "      <td>2060114740</td>\n",
              "      <td>20</td>\n",
              "      <td>98</td>\n",
              "      <td>0.191252</td>\n",
              "      <td>0</td>\n",
              "      <td>18.742682</td>\n",
              "      <td>20</td>\n",
              "    </tr>\n",
              "    <tr>\n",
              "      <th>1</th>\n",
              "      <td>3790260</td>\n",
              "      <td>1806204031</td>\n",
              "      <td>10</td>\n",
              "      <td>98</td>\n",
              "      <td>0.207185</td>\n",
              "      <td>0</td>\n",
              "      <td>20.304136</td>\n",
              "      <td>10</td>\n",
              "    </tr>\n",
              "    <tr>\n",
              "      <th>2</th>\n",
              "      <td>3790260</td>\n",
              "      <td>4096652575</td>\n",
              "      <td>10</td>\n",
              "      <td>68</td>\n",
              "      <td>0.151492</td>\n",
              "      <td>0</td>\n",
              "      <td>10.301460</td>\n",
              "      <td>10</td>\n",
              "    </tr>\n",
              "    <tr>\n",
              "      <th>3</th>\n",
              "      <td>3790260</td>\n",
              "      <td>1234832524</td>\n",
              "      <td>0</td>\n",
              "      <td>-1</td>\n",
              "      <td>0.000000</td>\n",
              "      <td>0</td>\n",
              "      <td>-0.000000</td>\n",
              "      <td>0</td>\n",
              "    </tr>\n",
              "    <tr>\n",
              "      <th>4</th>\n",
              "      <td>4687825</td>\n",
              "      <td>2060114740</td>\n",
              "      <td>20</td>\n",
              "      <td>98</td>\n",
              "      <td>0.032649</td>\n",
              "      <td>0</td>\n",
              "      <td>3.199606</td>\n",
              "      <td>20</td>\n",
              "    </tr>\n",
              "    <tr>\n",
              "      <th>5</th>\n",
              "      <td>4687825</td>\n",
              "      <td>1806204031</td>\n",
              "      <td>10</td>\n",
              "      <td>98</td>\n",
              "      <td>0.068399</td>\n",
              "      <td>0</td>\n",
              "      <td>6.703063</td>\n",
              "      <td>10</td>\n",
              "    </tr>\n",
              "    <tr>\n",
              "      <th>6</th>\n",
              "      <td>4687825</td>\n",
              "      <td>4096652575</td>\n",
              "      <td>10</td>\n",
              "      <td>68</td>\n",
              "      <td>0.271954</td>\n",
              "      <td>0</td>\n",
              "      <td>18.492881</td>\n",
              "      <td>10</td>\n",
              "    </tr>\n",
              "    <tr>\n",
              "      <th>7</th>\n",
              "      <td>4687825</td>\n",
              "      <td>1234832524</td>\n",
              "      <td>0</td>\n",
              "      <td>-1</td>\n",
              "      <td>0.000000</td>\n",
              "      <td>0</td>\n",
              "      <td>-0.000000</td>\n",
              "      <td>0</td>\n",
              "    </tr>\n",
              "    <tr>\n",
              "      <th>8</th>\n",
              "      <td>5077519</td>\n",
              "      <td>2060114740</td>\n",
              "      <td>20</td>\n",
              "      <td>98</td>\n",
              "      <td>0.233389</td>\n",
              "      <td>0</td>\n",
              "      <td>22.872091</td>\n",
              "      <td>20</td>\n",
              "    </tr>\n",
              "    <tr>\n",
              "      <th>9</th>\n",
              "      <td>5077519</td>\n",
              "      <td>1806204031</td>\n",
              "      <td>10</td>\n",
              "      <td>98</td>\n",
              "      <td>0.254644</td>\n",
              "      <td>0</td>\n",
              "      <td>24.955114</td>\n",
              "      <td>10</td>\n",
              "    </tr>\n",
              "    <tr>\n",
              "      <th>10</th>\n",
              "      <td>5077519</td>\n",
              "      <td>4096652575</td>\n",
              "      <td>10</td>\n",
              "      <td>68</td>\n",
              "      <td>0.124113</td>\n",
              "      <td>0</td>\n",
              "      <td>8.439653</td>\n",
              "      <td>10</td>\n",
              "    </tr>\n",
              "    <tr>\n",
              "      <th>11</th>\n",
              "      <td>5077519</td>\n",
              "      <td>1234832524</td>\n",
              "      <td>0</td>\n",
              "      <td>-1</td>\n",
              "      <td>0.000000</td>\n",
              "      <td>0</td>\n",
              "      <td>-0.000000</td>\n",
              "      <td>0</td>\n",
              "    </tr>\n",
              "    <tr>\n",
              "      <th>12</th>\n",
              "      <td>7927329</td>\n",
              "      <td>2060114740</td>\n",
              "      <td>20</td>\n",
              "      <td>98</td>\n",
              "      <td>0.025967</td>\n",
              "      <td>0</td>\n",
              "      <td>2.544780</td>\n",
              "      <td>20</td>\n",
              "    </tr>\n",
              "    <tr>\n",
              "      <th>13</th>\n",
              "      <td>7927329</td>\n",
              "      <td>1806204031</td>\n",
              "      <td>10</td>\n",
              "      <td>98</td>\n",
              "      <td>0.275715</td>\n",
              "      <td>0</td>\n",
              "      <td>27.020065</td>\n",
              "      <td>10</td>\n",
              "    </tr>\n",
              "    <tr>\n",
              "      <th>14</th>\n",
              "      <td>7927329</td>\n",
              "      <td>4096652575</td>\n",
              "      <td>10</td>\n",
              "      <td>68</td>\n",
              "      <td>0.101633</td>\n",
              "      <td>0</td>\n",
              "      <td>6.911041</td>\n",
              "      <td>10</td>\n",
              "    </tr>\n",
              "    <tr>\n",
              "      <th>15</th>\n",
              "      <td>7927329</td>\n",
              "      <td>1234832524</td>\n",
              "      <td>0</td>\n",
              "      <td>-1</td>\n",
              "      <td>0.000000</td>\n",
              "      <td>0</td>\n",
              "      <td>-0.000000</td>\n",
              "      <td>0</td>\n",
              "    </tr>\n",
              "  </tbody>\n",
              "</table>\n",
              "</div>\n",
              "      <button class=\"colab-df-convert\" onclick=\"convertToInteractive('df-9fa00832-c93d-4ea3-9d99-0039bedab779')\"\n",
              "              title=\"Convert this dataframe to an interactive table.\"\n",
              "              style=\"display:none;\">\n",
              "        \n",
              "  <svg xmlns=\"http://www.w3.org/2000/svg\" height=\"24px\"viewBox=\"0 0 24 24\"\n",
              "       width=\"24px\">\n",
              "    <path d=\"M0 0h24v24H0V0z\" fill=\"none\"/>\n",
              "    <path d=\"M18.56 5.44l.94 2.06.94-2.06 2.06-.94-2.06-.94-.94-2.06-.94 2.06-2.06.94zm-11 1L8.5 8.5l.94-2.06 2.06-.94-2.06-.94L8.5 2.5l-.94 2.06-2.06.94zm10 10l.94 2.06.94-2.06 2.06-.94-2.06-.94-.94-2.06-.94 2.06-2.06.94z\"/><path d=\"M17.41 7.96l-1.37-1.37c-.4-.4-.92-.59-1.43-.59-.52 0-1.04.2-1.43.59L10.3 9.45l-7.72 7.72c-.78.78-.78 2.05 0 2.83L4 21.41c.39.39.9.59 1.41.59.51 0 1.02-.2 1.41-.59l7.78-7.78 2.81-2.81c.8-.78.8-2.07 0-2.86zM5.41 20L4 18.59l7.72-7.72 1.47 1.35L5.41 20z\"/>\n",
              "  </svg>\n",
              "      </button>\n",
              "      \n",
              "  <style>\n",
              "    .colab-df-container {\n",
              "      display:flex;\n",
              "      flex-wrap:wrap;\n",
              "      gap: 12px;\n",
              "    }\n",
              "\n",
              "    .colab-df-convert {\n",
              "      background-color: #E8F0FE;\n",
              "      border: none;\n",
              "      border-radius: 50%;\n",
              "      cursor: pointer;\n",
              "      display: none;\n",
              "      fill: #1967D2;\n",
              "      height: 32px;\n",
              "      padding: 0 0 0 0;\n",
              "      width: 32px;\n",
              "    }\n",
              "\n",
              "    .colab-df-convert:hover {\n",
              "      background-color: #E2EBFA;\n",
              "      box-shadow: 0px 1px 2px rgba(60, 64, 67, 0.3), 0px 1px 3px 1px rgba(60, 64, 67, 0.15);\n",
              "      fill: #174EA6;\n",
              "    }\n",
              "\n",
              "    [theme=dark] .colab-df-convert {\n",
              "      background-color: #3B4455;\n",
              "      fill: #D2E3FC;\n",
              "    }\n",
              "\n",
              "    [theme=dark] .colab-df-convert:hover {\n",
              "      background-color: #434B5C;\n",
              "      box-shadow: 0px 1px 3px 1px rgba(0, 0, 0, 0.15);\n",
              "      filter: drop-shadow(0px 1px 2px rgba(0, 0, 0, 0.3));\n",
              "      fill: #FFFFFF;\n",
              "    }\n",
              "  </style>\n",
              "\n",
              "      <script>\n",
              "        const buttonEl =\n",
              "          document.querySelector('#df-9fa00832-c93d-4ea3-9d99-0039bedab779 button.colab-df-convert');\n",
              "        buttonEl.style.display =\n",
              "          google.colab.kernel.accessAllowed ? 'block' : 'none';\n",
              "\n",
              "        async function convertToInteractive(key) {\n",
              "          const element = document.querySelector('#df-9fa00832-c93d-4ea3-9d99-0039bedab779');\n",
              "          const dataTable =\n",
              "            await google.colab.kernel.invokeFunction('convertToInteractive',\n",
              "                                                     [key], {});\n",
              "          if (!dataTable) return;\n",
              "\n",
              "          const docLinkHtml = 'Like what you see? Visit the ' +\n",
              "            '<a target=\"_blank\" href=https://colab.research.google.com/notebooks/data_table.ipynb>data table notebook</a>'\n",
              "            + ' to learn more about interactive tables.';\n",
              "          element.innerHTML = '';\n",
              "          dataTable['output_type'] = 'display_data';\n",
              "          await google.colab.output.renderOutput(dataTable, element);\n",
              "          const docLink = document.createElement('div');\n",
              "          docLink.innerHTML = docLinkHtml;\n",
              "          element.appendChild(docLink);\n",
              "        }\n",
              "      </script>\n",
              "    </div>\n",
              "  </div>\n",
              "  "
            ]
          },
          "metadata": {},
          "execution_count": 13
        }
      ]
    },
    {
      "cell_type": "markdown",
      "source": [
        "**转为pyspark计算**"
      ],
      "metadata": {
        "id": "ti4_yOn3A2gT"
      }
    },
    {
      "cell_type": "code",
      "source": [
        "# 初始化spark会话\n",
        "spark = SparkSession.builder.getOrCreate()"
      ],
      "metadata": {
        "id": "MnPXwhFN_GcG"
      },
      "execution_count": 14,
      "outputs": []
    },
    {
      "cell_type": "code",
      "source": [
        "spark_df_old = spark.createDataFrame(df_old)\n",
        "spark_df_old.show()"
      ],
      "metadata": {
        "colab": {
          "base_uri": "https://localhost:8080/"
        },
        "id": "W9vxt6rJ3W4O",
        "outputId": "a600e4a7-b3a4-4ea1-d747-20875a19101e"
      },
      "execution_count": 15,
      "outputs": [
        {
          "output_type": "stream",
          "name": "stdout",
          "text": [
            "+-------+----------+-------------+----------------+--------------------+--------------------+--------------------------------+----------------------+\n",
            "|user_id| coupon_id|coupon_reduce|coupon_threshold|          is_convert|     control_convert|expected_coupon_threshold_uplift|expected_coupon_reduce|\n",
            "+-------+----------+-------------+----------------+--------------------+--------------------+--------------------------------+----------------------+\n",
            "|3790260|2060114740|           20|              60| 0.05981881875751535|0.001810030408139...|              3.4805273009625237|                    20|\n",
            "|3790260|1806204031|           10|              60| 0.17374598216910098|0.001810030408139...|               10.31615710565766|                    10|\n",
            "|3790260|4096652575|           10|              40|  0.2708929289106016|0.001810030408139...|              10.763315940098465|                    10|\n",
            "|3790260|1234832524|            0|              -1|0.001810030408139...|0.001810030408139...|                            -0.0|                     0|\n",
            "|4687825|2060114740|           20|              60|   0.176561224572686|1.185716989868668...|              10.586559172421946|                    20|\n",
            "|4687825|1806204031|           10|              60|   0.214746360524911|1.185716989868668...|              12.877667329555447|                    10|\n",
            "|4687825|4096652575|           10|              40|  0.1929322700655497|1.185716989868668...|              7.7125479346625125|                    10|\n",
            "|4687825|1234832524|            0|              -1|1.185716989868668...|1.185716989868668...|                            -0.0|                     0|\n",
            "|5077519|2060114740|           20|              60| 0.27543059772819173|0.004548072001101497|               16.25295154362541|                    20|\n",
            "|5077519|1806204031|           10|              60| 0.11235188145828297|0.004548072001101497|               6.468228567430889|                    10|\n",
            "|5077519|4096652575|           10|              40| 0.17164703697491993|0.004548072001101497|               6.683958598952737|                    10|\n",
            "|5077519|1234832524|            0|              -1|0.004548072001101497|0.004548072001101497|                            -0.0|                     0|\n",
            "|7927329|2060114740|           20|              60| 0.17918278480222546|0.004691291644920...|              10.469489589438309|                    20|\n",
            "|7927329|1806204031|           10|              60|  0.1427733895692563|0.004691291644920...|               8.284925875460159|                    10|\n",
            "|7927329|4096652575|           10|              40| 0.02889926519920376|0.004691291644920...|              0.9683189421713372|                    10|\n",
            "|7927329|1234832524|            0|              -1|0.004691291644920...|0.004691291644920...|                            -0.0|                     0|\n",
            "+-------+----------+-------------+----------------+--------------------+--------------------+--------------------------------+----------------------+\n",
            "\n"
          ]
        }
      ]
    },
    {
      "cell_type": "code",
      "source": [
        "spark_df_new = spark.createDataFrame(df_new)\n",
        "spark_df_new.show()"
      ],
      "metadata": {
        "colab": {
          "base_uri": "https://localhost:8080/"
        },
        "id": "ta97Sx5R_UPw",
        "outputId": "76a3c24c-2efb-4696-b535-819d937a6a86"
      },
      "execution_count": 16,
      "outputs": [
        {
          "output_type": "stream",
          "name": "stdout",
          "text": [
            "+-------+----------+-------------+----------------+--------------------+---------------+--------------------------------+----------------------+\n",
            "|user_id| coupon_id|coupon_reduce|coupon_threshold|          is_convert|control_convert|expected_coupon_threshold_uplift|expected_coupon_reduce|\n",
            "+-------+----------+-------------+----------------+--------------------+---------------+--------------------------------+----------------------+\n",
            "|3790260|2060114740|           20|              98| 0.19125185786060447|              0|               18.74268207033924|                    20|\n",
            "|3790260|1806204031|           10|              98| 0.20718506402785533|              0|               20.30413627472982|                    10|\n",
            "|3790260|4096652575|           10|              68| 0.15149205545544758|              0|              10.301459770970435|                    10|\n",
            "|3790260|1234832524|            0|              -1|                 0.0|              0|                            -0.0|                     0|\n",
            "|4687825|2060114740|           20|              98|0.032649038496314134|              0|               3.199605772638785|                    20|\n",
            "|4687825|1806204031|           10|              98| 0.06839859819789669|              0|               6.703062623393875|                    10|\n",
            "|4687825|4096652575|           10|              68|   0.271954139076728|              0|              18.492881457217504|                    10|\n",
            "|4687825|1234832524|            0|              -1|                 0.0|              0|                            -0.0|                     0|\n",
            "|5077519|2060114740|           20|              98| 0.23338868590053582|              0|               22.87209121825251|                    20|\n",
            "|5077519|1806204031|           10|              98|  0.2546440228455794|              0|               24.95511423886678|                    10|\n",
            "|5077519|4096652575|           10|              68| 0.12411253993241676|              0|               8.439652715404339|                    10|\n",
            "|5077519|1234832524|            0|              -1|                 0.0|              0|                            -0.0|                     0|\n",
            "|7927329|2060114740|           20|              98| 0.02596714475768441|              0|               2.544780186253072|                    20|\n",
            "|7927329|1806204031|           10|              98|  0.2757149521737651|              0|              27.020065313028983|                    10|\n",
            "|7927329|4096652575|           10|              68| 0.10163295818892053|              0|               6.911041156846596|                    10|\n",
            "|7927329|1234832524|            0|              -1|                 0.0|              0|                            -0.0|                     0|\n",
            "+-------+----------+-------------+----------------+--------------------+---------------+--------------------------------+----------------------+\n",
            "\n"
          ]
        }
      ]
    },
    {
      "cell_type": "code",
      "source": [
        "result_df_new = spark_df_new.groupby('user_id').agg(\n",
        "    F.collect_list('is_convert').alias('is_convert'),\n",
        "    F.collect_list('coupon_id').alias('coupon_id'),\n",
        "    F.collect_list('expected_coupon_reduce').alias('expected_coupon_reduce'),\n",
        "    F.collect_list('coupon_threshold').alias('coupon_threshold'),\n",
        "    F.collect_list('expected_coupon_threshold_uplift').alias('expected_coupon_threshold_uplift'),).cache()\n",
        "\n",
        "result_df_new.show()"
      ],
      "metadata": {
        "colab": {
          "base_uri": "https://localhost:8080/"
        },
        "id": "4hMGMHjs3mTb",
        "outputId": "8fb0b63e-e647-4b5a-9821-f749c7800efc"
      },
      "execution_count": 19,
      "outputs": [
        {
          "output_type": "stream",
          "name": "stdout",
          "text": [
            "+-------+--------------------+--------------------+----------------------+----------------+--------------------------------+\n",
            "|user_id|          is_convert|           coupon_id|expected_coupon_reduce|coupon_threshold|expected_coupon_threshold_uplift|\n",
            "+-------+--------------------+--------------------+----------------------+----------------+--------------------------------+\n",
            "|3790260|[0.19125185786060...|[2060114740, 1806...|       [20, 10, 10, 0]|[98, 98, 68, -1]|            [18.7426820703392...|\n",
            "|5077519|[0.23338868590053...|[2060114740, 1806...|       [20, 10, 10, 0]|[98, 98, 68, -1]|            [22.8720912182525...|\n",
            "|4687825|[0.03264903849631...|[2060114740, 1806...|       [20, 10, 10, 0]|[98, 98, 68, -1]|            [3.19960577263878...|\n",
            "|7927329|[0.02596714475768...|[2060114740, 1806...|       [20, 10, 10, 0]|[98, 98, 68, -1]|            [2.54478018625307...|\n",
            "+-------+--------------------+--------------------+----------------------+----------------+--------------------------------+\n",
            "\n"
          ]
        }
      ]
    },
    {
      "cell_type": "code",
      "source": [
        "result_df_old = spark_df_old.groupby('user_id').agg(\n",
        "    F.collect_list('is_convert').alias('is_convert'),\n",
        "    F.collect_list('coupon_id').alias('coupon_id'),\n",
        "    F.collect_list('expected_coupon_reduce').alias('expected_coupon_reduce'),\n",
        "    F.collect_list('coupon_threshold').alias('coupon_threshold'),\n",
        "    F.collect_list('expected_coupon_threshold_uplift').alias('expected_coupon_threshold_uplift'),).cache()\n",
        "\n",
        "result_df_old.show()"
      ],
      "metadata": {
        "colab": {
          "base_uri": "https://localhost:8080/"
        },
        "id": "HlaYp5ki_pSU",
        "outputId": "8be77fdd-ea4b-4f35-e2c6-03423e20fb1e"
      },
      "execution_count": 20,
      "outputs": [
        {
          "output_type": "stream",
          "name": "stdout",
          "text": [
            "+-------+--------------------+--------------------+----------------------+----------------+--------------------------------+\n",
            "|user_id|          is_convert|           coupon_id|expected_coupon_reduce|coupon_threshold|expected_coupon_threshold_uplift|\n",
            "+-------+--------------------+--------------------+----------------------+----------------+--------------------------------+\n",
            "|3790260|[0.05981881875751...|[2060114740, 1806...|       [20, 10, 10, 0]|[60, 60, 40, -1]|            [3.48052730096252...|\n",
            "|5077519|[0.27543059772819...|[2060114740, 1806...|       [20, 10, 10, 0]|[60, 60, 40, -1]|            [16.2529515436254...|\n",
            "|4687825|[0.17656122457268...|[2060114740, 1806...|       [20, 10, 10, 0]|[60, 60, 40, -1]|            [10.5865591724219...|\n",
            "|7927329|[0.17918278480222...|[2060114740, 1806...|       [20, 10, 10, 0]|[60, 60, 40, -1]|            [10.4694895894383...|\n",
            "+-------+--------------------+--------------------+----------------------+----------------+--------------------------------+\n",
            "\n"
          ]
        }
      ]
    },
    {
      "cell_type": "markdown",
      "source": [
        "**MCKP求解**"
      ],
      "metadata": {
        "id": "Cofj2GtVA98k"
      }
    },
    {
      "cell_type": "code",
      "source": [
        "epoch = 1000\n",
        "B = 50\n",
        "C = 150\n",
        "alpha = 0.01\n",
        "lr_decay = 0.98"
      ],
      "metadata": {
        "id": "SBWTQKd8ATYu"
      },
      "execution_count": 21,
      "outputs": []
    },
    {
      "cell_type": "code",
      "source": [
        "def MCKP(df, epoch, B, C, alpha, lr_decay=1):\n",
        "    N = df.count()\n",
        "    lambda_B = 0\n",
        "    lambda_C = 0\n",
        "\n",
        "    for _ in tqdm(range(epoch)):\n",
        "\n",
        "        temp = df.cache()\n",
        "\n",
        "        # 固定lambda，更新xij，选择收益最大的优惠券\n",
        "        temp = temp.withColumn('score', F.expr('zip_with(is_convert, expected_coupon_reduce, (x, y) -> (x - %f * y))' % (lambda_B)))\n",
        "        temp = temp.withColumn('score', F.expr('zip_with(score, expected_coupon_threshold_uplift, (x, y) -> (x + %f * y))' % (lambda_C)))\n",
        "        temp = temp.withColumn('choice', F.expr('array_position(score, array_max(score)) - 1'))\n",
        "\n",
        "        # 固定优惠券，更新lambda\n",
        "        delta_B = temp.select(F.sum(F.col('expected_coupon_reduce')[F.col('choice')])).collect()[0][0]\n",
        "        lambda_B = max(0, lambda_B - alpha * (B - delta_B)/N)\n",
        "\n",
        "        delta_C = temp.select(F.sum(F.col('expected_coupon_threshold_uplift')[F.col('choice')])).collect()[0][0]\n",
        "        lambda_C = max(0, lambda_C - alpha * (delta_C - C)/N)\n",
        "\n",
        "        if _ % 50 == 0:\n",
        "            print(\"epoch: {0}, lambda_B: {1}, lambda_C: {2}\".format(_, lambda_B, lambda_C))\n",
        "\n",
        "        if _ % 10 == 0:\n",
        "          alpha *= lr_decay\n",
        "\n",
        "        temp.unpersist()\n",
        "\n",
        "    return temp"
      ],
      "metadata": {
        "id": "udrVJPadAiJS"
      },
      "execution_count": 22,
      "outputs": []
    },
    {
      "cell_type": "code",
      "source": [
        "result_old = MCKP(result_df_old, epoch, B, C, alpha, lr_decay)"
      ],
      "metadata": {
        "colab": {
          "base_uri": "https://localhost:8080/"
        },
        "id": "wEs3XBK-AkQj",
        "outputId": "8037b813-34f3-4797-e6be-628887e79c9a"
      },
      "execution_count": 23,
      "outputs": [
        {
          "output_type": "stream",
          "name": "stderr",
          "text": [
            "  0%|          | 1/1000 [00:07<1:57:59,  7.09s/it]"
          ]
        },
        {
          "output_type": "stream",
          "name": "stdout",
          "text": [
            "epoch: 0, lambda_B: 0.025, lambda_C: 0.2490914389932059\n"
          ]
        },
        {
          "output_type": "stream",
          "name": "stderr",
          "text": [
            "  5%|▌         | 51/1000 [03:45<47:27,  3.00s/it]"
          ]
        },
        {
          "output_type": "stream",
          "name": "stdout",
          "text": [
            "epoch: 50, lambda_B: 1.2019702391999996, lambda_C: 11.976019860373443\n"
          ]
        },
        {
          "output_type": "stream",
          "name": "stderr",
          "text": [
            " 10%|█         | 101/1000 [06:07<40:34,  2.71s/it]"
          ]
        },
        {
          "output_type": "stream",
          "name": "stdout",
          "text": [
            "epoch: 100, lambda_B: 2.2658581156275472, lambda_C: 22.57623434304402\n"
          ]
        },
        {
          "output_type": "stream",
          "name": "stderr",
          "text": [
            " 15%|█▌        | 151/1000 [08:25<39:51,  2.82s/it]"
          ]
        },
        {
          "output_type": "stream",
          "name": "stdout",
          "text": [
            "epoch: 150, lambda_B: 3.2275284925937955, lambda_C: 32.157988664470516\n"
          ]
        },
        {
          "output_type": "stream",
          "name": "stderr",
          "text": [
            " 20%|██        | 201/1000 [10:36<34:18,  2.58s/it]"
          ]
        },
        {
          "output_type": "stream",
          "name": "stdout",
          "text": [
            "epoch: 200, lambda_B: 4.096802346000087, lambda_C: 40.819135665436185\n"
          ]
        },
        {
          "output_type": "stream",
          "name": "stderr",
          "text": [
            " 25%|██▌       | 251/1000 [12:52<31:09,  2.50s/it]"
          ]
        },
        {
          "output_type": "stream",
          "name": "stdout",
          "text": [
            "epoch: 250, lambda_B: 4.882557060208504, lambda_C: 48.64812656375107\n"
          ]
        },
        {
          "output_type": "stream",
          "name": "stderr",
          "text": [
            " 30%|███       | 301/1000 [14:58<28:40,  2.46s/it]"
          ]
        },
        {
          "output_type": "stream",
          "name": "stdout",
          "text": [
            "epoch: 300, lambda_B: 5.592817087565135, lambda_C: 55.72491425469571\n"
          ]
        },
        {
          "output_type": "stream",
          "name": "stderr",
          "text": [
            " 35%|███▌      | 351/1000 [17:14<27:13,  2.52s/it]"
          ]
        },
        {
          "output_type": "stream",
          "name": "stdout",
          "text": [
            "epoch: 350, lambda_B: 6.234835897428531, lambda_C: 62.12176982307887\n"
          ]
        },
        {
          "output_type": "stream",
          "name": "stderr",
          "text": [
            " 40%|████      | 401/1000 [19:26<23:20,  2.34s/it]"
          ]
        },
        {
          "output_type": "stream",
          "name": "stdout",
          "text": [
            "epoch: 400, lambda_B: 6.815170051600844, lambda_C: 67.90402060546614\n"
          ]
        },
        {
          "output_type": "stream",
          "name": "stderr",
          "text": [
            " 45%|████▌     | 451/1000 [21:40<23:52,  2.61s/it]"
          ]
        },
        {
          "output_type": "stream",
          "name": "stdout",
          "text": [
            "epoch: 450, lambda_B: 7.339746162650523, lambda_C: 73.13071733997933\n"
          ]
        },
        {
          "output_type": "stream",
          "name": "stderr",
          "text": [
            " 50%|█████     | 501/1000 [23:55<21:37,  2.60s/it]"
          ]
        },
        {
          "output_type": "stream",
          "name": "stdout",
          "text": [
            "epoch: 500, lambda_B: 7.8139214189327975, lambda_C: 77.8552372168723\n"
          ]
        },
        {
          "output_type": "stream",
          "name": "stderr",
          "text": [
            " 55%|█████▌    | 551/1000 [26:01<19:58,  2.67s/it]"
          ]
        },
        {
          "output_type": "stream",
          "name": "stdout",
          "text": [
            "epoch: 550, lambda_B: 8.242538294414327, lambda_C: 82.12582898849095\n"
          ]
        },
        {
          "output_type": "stream",
          "name": "stderr",
          "text": [
            " 60%|██████    | 601/1000 [28:05<18:08,  2.73s/it]"
          ]
        },
        {
          "output_type": "stream",
          "name": "stdout",
          "text": [
            "epoch: 600, lambda_B: 8.629974002021498, lambda_C: 85.98610570549997\n"
          ]
        },
        {
          "output_type": "stream",
          "name": "stderr",
          "text": [
            " 65%|██████▌   | 651/1000 [30:36<19:00,  3.27s/it]"
          ]
        },
        {
          "output_type": "stream",
          "name": "stdout",
          "text": [
            "epoch: 650, lambda_B: 8.980185195550565, lambda_C: 89.4754901114074\n"
          ]
        },
        {
          "output_type": "stream",
          "name": "stderr",
          "text": [
            " 70%|███████   | 701/1000 [33:15<14:27,  2.90s/it]"
          ]
        },
        {
          "output_type": "stream",
          "name": "stdout",
          "text": [
            "epoch: 700, lambda_B: 9.296748376653607, lambda_C: 92.62961724393651\n"
          ]
        },
        {
          "output_type": "stream",
          "name": "stderr",
          "text": [
            " 75%|███████▌  | 751/1000 [35:28<11:35,  2.79s/it]"
          ]
        },
        {
          "output_type": "stream",
          "name": "stdout",
          "text": [
            "epoch: 750, lambda_B: 9.58289641955383, lambda_C: 95.48069835478091\n"
          ]
        },
        {
          "output_type": "stream",
          "name": "stderr",
          "text": [
            " 80%|████████  | 801/1000 [37:32<08:39,  2.61s/it]"
          ]
        },
        {
          "output_type": "stream",
          "name": "stdout",
          "text": [
            "epoch: 800, lambda_B: 9.841551586494958, lambda_C: 98.05784986423663\n"
          ]
        },
        {
          "output_type": "stream",
          "name": "stderr",
          "text": [
            " 85%|████████▌ | 851/1000 [39:36<05:43,  2.30s/it]"
          ]
        },
        {
          "output_type": "stream",
          "name": "stdout",
          "text": [
            "epoch: 850, lambda_B: 10.075355371092833, lambda_C: 100.38739071013825\n"
          ]
        },
        {
          "output_type": "stream",
          "name": "stderr",
          "text": [
            " 90%|█████████ | 901/1000 [41:43<03:31,  2.13s/it]"
          ]
        },
        {
          "output_type": "stream",
          "name": "stdout",
          "text": [
            "epoch: 900, lambda_B: 10.286695474361391, lambda_C: 102.49311112774382\n"
          ]
        },
        {
          "output_type": "stream",
          "name": "stderr",
          "text": [
            " 95%|█████████▌| 951/1000 [43:46<02:15,  2.77s/it]"
          ]
        },
        {
          "output_type": "stream",
          "name": "stdout",
          "text": [
            "epoch: 950, lambda_B: 10.477730188903688, lambda_C: 104.39651560546397\n"
          ]
        },
        {
          "output_type": "stream",
          "name": "stderr",
          "text": [
            "100%|██████████| 1000/1000 [45:50<00:00,  2.75s/it]\n"
          ]
        }
      ]
    },
    {
      "cell_type": "code",
      "source": [
        "result_old = result_old.withColumn('choose_coupon', F.col('coupon_id')[F.col('choice')])"
      ],
      "metadata": {
        "id": "RHFzkJmKAm8X"
      },
      "execution_count": 24,
      "outputs": []
    },
    {
      "cell_type": "code",
      "source": [
        "result_old.show()"
      ],
      "metadata": {
        "colab": {
          "base_uri": "https://localhost:8080/"
        },
        "id": "ujHSTH1MCFzX",
        "outputId": "e8dcce97-fa96-486b-f36e-5de80fbfe038"
      },
      "execution_count": 25,
      "outputs": [
        {
          "output_type": "stream",
          "name": "stdout",
          "text": [
            "+-------+--------------------+--------------------+----------------------+----------------+--------------------------------+--------------------+------+-------------+\n",
            "|user_id|          is_convert|           coupon_id|expected_coupon_reduce|coupon_threshold|expected_coupon_threshold_uplift|               score|choice|choose_coupon|\n",
            "+-------+--------------------+--------------------+----------------------+----------------+--------------------------------+--------------------+------+-------------+\n",
            "|3790260|[0.05981881875751...|[2060114740, 1806...|       [20, 10, 10, 0]|[60, 60, 40, -1]|            [3.48052730096252...|[156.297549119424...|     2|   4096652575|\n",
            "|5077519|[0.27543059772819...|[2060114740, 1806...|       [20, 10, 10, 0]|[60, 60, 40, -1]|            [16.2529515436254...|[1511.04119217400...|     0|   2060114740|\n",
            "|4687825|[0.17656122457268...|[2060114740, 1806...|       [20, 10, 10, 0]|[60, 60, 40, -1]|            [10.5865591724219...|[910.015892768554...|     1|   1806204031|\n",
            "|7927329|[0.17918278480222...|[2060114740, 1806...|       [20, 10, 10, 0]|[60, 60, 40, -1]|            [10.4694895894383...|[897.603171027595...|     0|   2060114740|\n",
            "+-------+--------------------+--------------------+----------------------+----------------+--------------------------------+--------------------+------+-------------+\n",
            "\n"
          ]
        }
      ]
    },
    {
      "cell_type": "code",
      "source": [
        "result_new = MCKP(result_df_new, epoch, B, C, alpha, lr_decay)"
      ],
      "metadata": {
        "colab": {
          "base_uri": "https://localhost:8080/"
        },
        "id": "K68swAR2BV1p",
        "outputId": "355c5bd0-0f59-4ca4-f9e3-29081bab552e"
      },
      "execution_count": 26,
      "outputs": [
        {
          "output_type": "stream",
          "name": "stderr",
          "text": [
            "  0%|          | 1/1000 [00:03<53:33,  3.22s/it]"
          ]
        },
        {
          "output_type": "stream",
          "name": "stdout",
          "text": [
            "epoch: 0, lambda_B: 0, lambda_C: 0.1480695067903923\n"
          ]
        },
        {
          "output_type": "stream",
          "name": "stderr",
          "text": [
            "  5%|▌         | 51/1000 [02:12<41:42,  2.64s/it]"
          ]
        },
        {
          "output_type": "stream",
          "name": "stdout",
          "text": [
            "epoch: 50, lambda_B: 0, lambda_C: 7.119005619802953\n"
          ]
        },
        {
          "output_type": "stream",
          "name": "stderr",
          "text": [
            " 10%|█         | 101/1000 [04:17<34:04,  2.27s/it]"
          ]
        },
        {
          "output_type": "stream",
          "name": "stdout",
          "text": [
            "epoch: 100, lambda_B: 0, lambda_C: 13.42017974551917\n"
          ]
        },
        {
          "output_type": "stream",
          "name": "stderr",
          "text": [
            " 15%|█▌        | 151/1000 [06:18<35:34,  2.51s/it]"
          ]
        },
        {
          "output_type": "stream",
          "name": "stdout",
          "text": [
            "epoch: 150, lambda_B: 0, lambda_C: 19.115942082012086\n"
          ]
        },
        {
          "output_type": "stream",
          "name": "stderr",
          "text": [
            " 20%|██        | 201/1000 [08:22<30:00,  2.25s/it]"
          ]
        },
        {
          "output_type": "stream",
          "name": "stdout",
          "text": [
            "epoch: 200, lambda_B: 0, lambda_C: 24.264460111598222\n"
          ]
        },
        {
          "output_type": "stream",
          "name": "stderr",
          "text": [
            " 25%|██▌       | 251/1000 [10:26<31:04,  2.49s/it]"
          ]
        },
        {
          "output_type": "stream",
          "name": "stdout",
          "text": [
            "epoch: 250, lambda_B: 0, lambda_C: 28.918312631240898\n"
          ]
        },
        {
          "output_type": "stream",
          "name": "stderr",
          "text": [
            " 30%|███       | 301/1000 [12:33<27:52,  2.39s/it]"
          ]
        },
        {
          "output_type": "stream",
          "name": "stdout",
          "text": [
            "epoch: 300, lambda_B: 0, lambda_C: 33.125026708986006\n"
          ]
        },
        {
          "output_type": "stream",
          "name": "stderr",
          "text": [
            " 35%|███▌      | 351/1000 [15:16<35:17,  3.26s/it]"
          ]
        },
        {
          "output_type": "stream",
          "name": "stdout",
          "text": [
            "epoch: 350, lambda_B: 0, lambda_C: 36.9275630500511\n"
          ]
        },
        {
          "output_type": "stream",
          "name": "stderr",
          "text": [
            " 40%|████      | 401/1000 [17:54<31:03,  3.11s/it]"
          ]
        },
        {
          "output_type": "stream",
          "name": "stdout",
          "text": [
            "epoch: 400, lambda_B: 0, lambda_C: 40.36475472932762\n"
          ]
        },
        {
          "output_type": "stream",
          "name": "stderr",
          "text": [
            " 45%|████▌     | 451/1000 [19:59<23:41,  2.59s/it]"
          ]
        },
        {
          "output_type": "stream",
          "name": "stdout",
          "text": [
            "epoch: 450, lambda_B: 0, lambda_C: 43.47170377081367\n"
          ]
        },
        {
          "output_type": "stream",
          "name": "stderr",
          "text": [
            " 50%|█████     | 501/1000 [22:04<18:45,  2.26s/it]"
          ]
        },
        {
          "output_type": "stream",
          "name": "stdout",
          "text": [
            "epoch: 500, lambda_B: 0, lambda_C: 46.28013962401061\n"
          ]
        },
        {
          "output_type": "stream",
          "name": "stderr",
          "text": [
            " 55%|█████▌    | 551/1000 [24:09<18:52,  2.52s/it]"
          ]
        },
        {
          "output_type": "stream",
          "name": "stdout",
          "text": [
            "epoch: 550, lambda_B: 0, lambda_C: 48.81874319819422\n"
          ]
        },
        {
          "output_type": "stream",
          "name": "stderr",
          "text": [
            " 60%|██████    | 601/1000 [26:08<14:55,  2.25s/it]"
          ]
        },
        {
          "output_type": "stream",
          "name": "stdout",
          "text": [
            "epoch: 600, lambda_B: 0, lambda_C: 51.11343976372948\n"
          ]
        },
        {
          "output_type": "stream",
          "name": "stderr",
          "text": [
            " 65%|██████▌   | 651/1000 [28:11<13:47,  2.37s/it]"
          ]
        },
        {
          "output_type": "stream",
          "name": "stdout",
          "text": [
            "epoch: 650, lambda_B: 0, lambda_C: 53.18766371166232\n"
          ]
        },
        {
          "output_type": "stream",
          "name": "stderr",
          "text": [
            " 70%|███████   | 701/1000 [30:16<11:53,  2.39s/it]"
          ]
        },
        {
          "output_type": "stream",
          "name": "stdout",
          "text": [
            "epoch: 700, lambda_B: 0, lambda_C: 55.06259787541948\n"
          ]
        },
        {
          "output_type": "stream",
          "name": "stderr",
          "text": [
            " 75%|███████▌  | 751/1000 [32:20<10:48,  2.60s/it]"
          ]
        },
        {
          "output_type": "stream",
          "name": "stdout",
          "text": [
            "epoch: 750, lambda_B: 0, lambda_C: 56.7573898586704\n"
          ]
        },
        {
          "output_type": "stream",
          "name": "stderr",
          "text": [
            " 80%|████████  | 801/1000 [34:28<08:24,  2.54s/it]"
          ]
        },
        {
          "output_type": "stream",
          "name": "stdout",
          "text": [
            "epoch: 800, lambda_B: 0, lambda_C: 58.28934757858084\n"
          ]
        },
        {
          "output_type": "stream",
          "name": "stderr",
          "text": [
            " 85%|████████▌ | 851/1000 [36:34<05:44,  2.32s/it]"
          ]
        },
        {
          "output_type": "stream",
          "name": "stdout",
          "text": [
            "epoch: 850, lambda_B: 0, lambda_C: 59.674116021426094\n"
          ]
        },
        {
          "output_type": "stream",
          "name": "stderr",
          "text": [
            " 90%|█████████ | 901/1000 [38:40<03:41,  2.23s/it]"
          ]
        },
        {
          "output_type": "stream",
          "name": "stdout",
          "text": [
            "epoch: 900, lambda_B: 0, lambda_C: 60.92583701566637\n"
          ]
        },
        {
          "output_type": "stream",
          "name": "stderr",
          "text": [
            " 95%|█████████▌| 951/1000 [40:46<02:13,  2.73s/it]"
          ]
        },
        {
          "output_type": "stream",
          "name": "stdout",
          "text": [
            "epoch: 950, lambda_B: 0, lambda_C: 62.05729365415136\n"
          ]
        },
        {
          "output_type": "stream",
          "name": "stderr",
          "text": [
            "100%|██████████| 1000/1000 [42:50<00:00,  2.57s/it]\n"
          ]
        }
      ]
    },
    {
      "cell_type": "code",
      "source": [
        "result_new = result_new.withColumn('choose_coupon', F.col('coupon_id')[F.col('choice')])"
      ],
      "metadata": {
        "id": "AK7NRumXBV4M"
      },
      "execution_count": 27,
      "outputs": []
    },
    {
      "cell_type": "code",
      "source": [
        "result_new.show()"
      ],
      "metadata": {
        "colab": {
          "base_uri": "https://localhost:8080/"
        },
        "id": "NsnavUPjCwkk",
        "outputId": "47f6c4f3-9886-4278-e68a-58a643ca4fd4"
      },
      "execution_count": 28,
      "outputs": [
        {
          "output_type": "stream",
          "name": "stdout",
          "text": [
            "+-------+--------------------+--------------------+----------------------+----------------+--------------------------------+--------------------+------+-------------+\n",
            "|user_id|          is_convert|           coupon_id|expected_coupon_reduce|coupon_threshold|expected_coupon_threshold_uplift|               score|choice|choose_coupon|\n",
            "+-------+--------------------+--------------------+----------------------+----------------+--------------------------------+--------------------+------+-------------+\n",
            "|3790260|[0.19125185786060...|[2060114740, 1806...|       [20, 10, 10, 0]|[98, 98, 68, -1]|            [18.7426820703392...|[1181.74430520919...|     1|   1806204031|\n",
            "|5077519|[0.23338868590053...|[2060114740, 1806...|       [20, 10, 10, 0]|[98, 98, 68, -1]|            [22.8720912182525...|[1442.10756197850...|     1|   1806204031|\n",
            "|4687825|[0.03264903849631...|[2060114740, 1806...|       [20, 10, 10, 0]|[98, 98, 68, -1]|            [3.19960577263878...|[201.738251043272...|     2|   4096652575|\n",
            "|7927329|[0.02596714475768...|[2060114740, 1806...|       [20, 10, 10, 0]|[98, 98, 68, -1]|            [2.54478018625307...|[160.450861932554...|     1|   1806204031|\n",
            "+-------+--------------------+--------------------+----------------------+----------------+--------------------------------+--------------------+------+-------------+\n",
            "\n"
          ]
        }
      ]
    },
    {
      "cell_type": "code",
      "source": [],
      "metadata": {
        "id": "nRjNTzvACCvK"
      },
      "execution_count": 58,
      "outputs": []
    }
  ]
}