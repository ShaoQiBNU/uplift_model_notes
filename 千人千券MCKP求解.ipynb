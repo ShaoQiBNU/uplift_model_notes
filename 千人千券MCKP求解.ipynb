{
  "nbformat": 4,
  "nbformat_minor": 0,
  "metadata": {
    "colab": {
      "provenance": []
    },
    "kernelspec": {
      "name": "python3",
      "display_name": "Python 3"
    },
    "language_info": {
      "name": "python"
    }
  },
  "cells": [
    {
      "cell_type": "code",
      "source": [
        "!pip install pyspark"
      ],
      "metadata": {
        "colab": {
          "base_uri": "https://localhost:8080/"
        },
        "id": "uBbCebOX3qKB",
        "outputId": "76862d9c-c207-4066-a9d7-1637ca65d1b9"
      },
      "execution_count": 61,
      "outputs": [
        {
          "output_type": "stream",
          "name": "stdout",
          "text": [
            "Requirement already satisfied: pyspark in /usr/local/lib/python3.10/dist-packages (3.4.1)\n",
            "Requirement already satisfied: py4j==0.10.9.7 in /usr/local/lib/python3.10/dist-packages (from pyspark) (0.10.9.7)\n"
          ]
        }
      ]
    },
    {
      "cell_type": "code",
      "source": [
        "import pandas as pd\n",
        "import random\n",
        "import os\n",
        "import sys\n",
        "from pyspark.context import SparkContext\n",
        "from pyspark.conf import SparkConf\n",
        "from pyspark.sql import SparkSession\n",
        "from pyspark.sql.types import *\n",
        "import pyspark.sql.functions as F\n",
        "import pyspark.sql.types as pst\n",
        "from pyspark.ml.feature import Bucketizer\n",
        "import copy\n",
        "import pandas as pd\n",
        "from sklearn.metrics import roc_auc_score\n",
        "from tqdm import tqdm"
      ],
      "metadata": {
        "id": "kDp7QDjw3rTM"
      },
      "execution_count": 189,
      "outputs": []
    },
    {
      "cell_type": "markdown",
      "source": [
        "**促活场景，可以不发优惠券**"
      ],
      "metadata": {
        "id": "Y0OFuQ6y2Y_W"
      }
    },
    {
      "cell_type": "code",
      "source": [
        "user_id = [3790260]*4 + [4687825]*4 + [5077519]*4 + [7927329]*4\n",
        "coupon_id = [2060114740, 1806204031, 4096652575, 1234832524] * 4\n",
        "coupon_reduce = [20, 10, 10, 0] * 4\n",
        "coupon_threshold = [60, 60, 40, -1] * 4\n",
        "is_convert = []\n",
        "control_convert = []"
      ],
      "metadata": {
        "id": "4cyzNjYmNMMS"
      },
      "execution_count": 190,
      "outputs": []
    },
    {
      "cell_type": "code",
      "source": [
        "for _ in range(4):\n",
        "  for _ in range(3):\n",
        "    is_convert.append(random.uniform(0.005, 0.3))\n",
        "  temp = random.uniform(0, 0.005)\n",
        "  is_convert.append(temp)\n",
        "  control_convert.extend([temp]*4)"
      ],
      "metadata": {
        "id": "5bm1feVsP5nW"
      },
      "execution_count": 191,
      "outputs": []
    },
    {
      "cell_type": "code",
      "source": [
        "data = {'user_id': user_id, 'coupon_id': coupon_id, 'coupon_reduce': coupon_reduce, 'coupon_threshold': coupon_threshold, 'is_convert': is_convert, 'control_convert':control_convert}"
      ],
      "metadata": {
        "id": "Trkx87-s0sdB"
      },
      "execution_count": 192,
      "outputs": []
    },
    {
      "cell_type": "code",
      "source": [
        "df_old = pd.DataFrame(data)\n",
        "df_old['expeted_uplift'] = (df_old['is_convert'] - df_old['control_convert']) * df_old['coupon_threshold']"
      ],
      "metadata": {
        "id": "AcXOxBGa1xJ8"
      },
      "execution_count": 193,
      "outputs": []
    },
    {
      "cell_type": "code",
      "source": [
        "df_old"
      ],
      "metadata": {
        "colab": {
          "base_uri": "https://localhost:8080/",
          "height": 551
        },
        "id": "19p2KnpR1zxj",
        "outputId": "f6dabd32-c442-4874-d16d-c6ce80bf180a"
      },
      "execution_count": 194,
      "outputs": [
        {
          "output_type": "execute_result",
          "data": {
            "text/plain": [
              "    user_id   coupon_id  coupon_reduce  coupon_threshold  is_convert  \\\n",
              "0   3790260  2060114740             20                60    0.123163   \n",
              "1   3790260  1806204031             10                60    0.031058   \n",
              "2   3790260  4096652575             10                40    0.046526   \n",
              "3   3790260  1234832524              0                -1    0.004987   \n",
              "4   4687825  2060114740             20                60    0.238143   \n",
              "5   4687825  1806204031             10                60    0.097641   \n",
              "6   4687825  4096652575             10                40    0.289030   \n",
              "7   4687825  1234832524              0                -1    0.000583   \n",
              "8   5077519  2060114740             20                60    0.125512   \n",
              "9   5077519  1806204031             10                60    0.040139   \n",
              "10  5077519  4096652575             10                40    0.011358   \n",
              "11  5077519  1234832524              0                -1    0.001945   \n",
              "12  7927329  2060114740             20                60    0.233763   \n",
              "13  7927329  1806204031             10                60    0.035914   \n",
              "14  7927329  4096652575             10                40    0.260684   \n",
              "15  7927329  1234832524              0                -1    0.004209   \n",
              "\n",
              "    control_convert  expeted_uplift  \n",
              "0          0.004987        7.090579  \n",
              "1          0.004987        1.564253  \n",
              "2          0.004987        1.661554  \n",
              "3          0.004987       -0.000000  \n",
              "4          0.000583       14.253599  \n",
              "5          0.000583        5.823499  \n",
              "6          0.000583       11.537874  \n",
              "7          0.000583       -0.000000  \n",
              "8          0.001945        7.414024  \n",
              "9          0.001945        2.291634  \n",
              "10         0.001945        0.376505  \n",
              "11         0.001945       -0.000000  \n",
              "12         0.004209       13.773252  \n",
              "13         0.004209        1.902281  \n",
              "14         0.004209       10.259018  \n",
              "15         0.004209       -0.000000  "
            ],
            "text/html": [
              "\n",
              "  <div id=\"df-632b9360-e8f5-4e74-8509-e72d55f244a8\">\n",
              "    <div class=\"colab-df-container\">\n",
              "      <div>\n",
              "<style scoped>\n",
              "    .dataframe tbody tr th:only-of-type {\n",
              "        vertical-align: middle;\n",
              "    }\n",
              "\n",
              "    .dataframe tbody tr th {\n",
              "        vertical-align: top;\n",
              "    }\n",
              "\n",
              "    .dataframe thead th {\n",
              "        text-align: right;\n",
              "    }\n",
              "</style>\n",
              "<table border=\"1\" class=\"dataframe\">\n",
              "  <thead>\n",
              "    <tr style=\"text-align: right;\">\n",
              "      <th></th>\n",
              "      <th>user_id</th>\n",
              "      <th>coupon_id</th>\n",
              "      <th>coupon_reduce</th>\n",
              "      <th>coupon_threshold</th>\n",
              "      <th>is_convert</th>\n",
              "      <th>control_convert</th>\n",
              "      <th>expeted_uplift</th>\n",
              "    </tr>\n",
              "  </thead>\n",
              "  <tbody>\n",
              "    <tr>\n",
              "      <th>0</th>\n",
              "      <td>3790260</td>\n",
              "      <td>2060114740</td>\n",
              "      <td>20</td>\n",
              "      <td>60</td>\n",
              "      <td>0.123163</td>\n",
              "      <td>0.004987</td>\n",
              "      <td>7.090579</td>\n",
              "    </tr>\n",
              "    <tr>\n",
              "      <th>1</th>\n",
              "      <td>3790260</td>\n",
              "      <td>1806204031</td>\n",
              "      <td>10</td>\n",
              "      <td>60</td>\n",
              "      <td>0.031058</td>\n",
              "      <td>0.004987</td>\n",
              "      <td>1.564253</td>\n",
              "    </tr>\n",
              "    <tr>\n",
              "      <th>2</th>\n",
              "      <td>3790260</td>\n",
              "      <td>4096652575</td>\n",
              "      <td>10</td>\n",
              "      <td>40</td>\n",
              "      <td>0.046526</td>\n",
              "      <td>0.004987</td>\n",
              "      <td>1.661554</td>\n",
              "    </tr>\n",
              "    <tr>\n",
              "      <th>3</th>\n",
              "      <td>3790260</td>\n",
              "      <td>1234832524</td>\n",
              "      <td>0</td>\n",
              "      <td>-1</td>\n",
              "      <td>0.004987</td>\n",
              "      <td>0.004987</td>\n",
              "      <td>-0.000000</td>\n",
              "    </tr>\n",
              "    <tr>\n",
              "      <th>4</th>\n",
              "      <td>4687825</td>\n",
              "      <td>2060114740</td>\n",
              "      <td>20</td>\n",
              "      <td>60</td>\n",
              "      <td>0.238143</td>\n",
              "      <td>0.000583</td>\n",
              "      <td>14.253599</td>\n",
              "    </tr>\n",
              "    <tr>\n",
              "      <th>5</th>\n",
              "      <td>4687825</td>\n",
              "      <td>1806204031</td>\n",
              "      <td>10</td>\n",
              "      <td>60</td>\n",
              "      <td>0.097641</td>\n",
              "      <td>0.000583</td>\n",
              "      <td>5.823499</td>\n",
              "    </tr>\n",
              "    <tr>\n",
              "      <th>6</th>\n",
              "      <td>4687825</td>\n",
              "      <td>4096652575</td>\n",
              "      <td>10</td>\n",
              "      <td>40</td>\n",
              "      <td>0.289030</td>\n",
              "      <td>0.000583</td>\n",
              "      <td>11.537874</td>\n",
              "    </tr>\n",
              "    <tr>\n",
              "      <th>7</th>\n",
              "      <td>4687825</td>\n",
              "      <td>1234832524</td>\n",
              "      <td>0</td>\n",
              "      <td>-1</td>\n",
              "      <td>0.000583</td>\n",
              "      <td>0.000583</td>\n",
              "      <td>-0.000000</td>\n",
              "    </tr>\n",
              "    <tr>\n",
              "      <th>8</th>\n",
              "      <td>5077519</td>\n",
              "      <td>2060114740</td>\n",
              "      <td>20</td>\n",
              "      <td>60</td>\n",
              "      <td>0.125512</td>\n",
              "      <td>0.001945</td>\n",
              "      <td>7.414024</td>\n",
              "    </tr>\n",
              "    <tr>\n",
              "      <th>9</th>\n",
              "      <td>5077519</td>\n",
              "      <td>1806204031</td>\n",
              "      <td>10</td>\n",
              "      <td>60</td>\n",
              "      <td>0.040139</td>\n",
              "      <td>0.001945</td>\n",
              "      <td>2.291634</td>\n",
              "    </tr>\n",
              "    <tr>\n",
              "      <th>10</th>\n",
              "      <td>5077519</td>\n",
              "      <td>4096652575</td>\n",
              "      <td>10</td>\n",
              "      <td>40</td>\n",
              "      <td>0.011358</td>\n",
              "      <td>0.001945</td>\n",
              "      <td>0.376505</td>\n",
              "    </tr>\n",
              "    <tr>\n",
              "      <th>11</th>\n",
              "      <td>5077519</td>\n",
              "      <td>1234832524</td>\n",
              "      <td>0</td>\n",
              "      <td>-1</td>\n",
              "      <td>0.001945</td>\n",
              "      <td>0.001945</td>\n",
              "      <td>-0.000000</td>\n",
              "    </tr>\n",
              "    <tr>\n",
              "      <th>12</th>\n",
              "      <td>7927329</td>\n",
              "      <td>2060114740</td>\n",
              "      <td>20</td>\n",
              "      <td>60</td>\n",
              "      <td>0.233763</td>\n",
              "      <td>0.004209</td>\n",
              "      <td>13.773252</td>\n",
              "    </tr>\n",
              "    <tr>\n",
              "      <th>13</th>\n",
              "      <td>7927329</td>\n",
              "      <td>1806204031</td>\n",
              "      <td>10</td>\n",
              "      <td>60</td>\n",
              "      <td>0.035914</td>\n",
              "      <td>0.004209</td>\n",
              "      <td>1.902281</td>\n",
              "    </tr>\n",
              "    <tr>\n",
              "      <th>14</th>\n",
              "      <td>7927329</td>\n",
              "      <td>4096652575</td>\n",
              "      <td>10</td>\n",
              "      <td>40</td>\n",
              "      <td>0.260684</td>\n",
              "      <td>0.004209</td>\n",
              "      <td>10.259018</td>\n",
              "    </tr>\n",
              "    <tr>\n",
              "      <th>15</th>\n",
              "      <td>7927329</td>\n",
              "      <td>1234832524</td>\n",
              "      <td>0</td>\n",
              "      <td>-1</td>\n",
              "      <td>0.004209</td>\n",
              "      <td>0.004209</td>\n",
              "      <td>-0.000000</td>\n",
              "    </tr>\n",
              "  </tbody>\n",
              "</table>\n",
              "</div>\n",
              "      <button class=\"colab-df-convert\" onclick=\"convertToInteractive('df-632b9360-e8f5-4e74-8509-e72d55f244a8')\"\n",
              "              title=\"Convert this dataframe to an interactive table.\"\n",
              "              style=\"display:none;\">\n",
              "        \n",
              "  <svg xmlns=\"http://www.w3.org/2000/svg\" height=\"24px\"viewBox=\"0 0 24 24\"\n",
              "       width=\"24px\">\n",
              "    <path d=\"M0 0h24v24H0V0z\" fill=\"none\"/>\n",
              "    <path d=\"M18.56 5.44l.94 2.06.94-2.06 2.06-.94-2.06-.94-.94-2.06-.94 2.06-2.06.94zm-11 1L8.5 8.5l.94-2.06 2.06-.94-2.06-.94L8.5 2.5l-.94 2.06-2.06.94zm10 10l.94 2.06.94-2.06 2.06-.94-2.06-.94-.94-2.06-.94 2.06-2.06.94z\"/><path d=\"M17.41 7.96l-1.37-1.37c-.4-.4-.92-.59-1.43-.59-.52 0-1.04.2-1.43.59L10.3 9.45l-7.72 7.72c-.78.78-.78 2.05 0 2.83L4 21.41c.39.39.9.59 1.41.59.51 0 1.02-.2 1.41-.59l7.78-7.78 2.81-2.81c.8-.78.8-2.07 0-2.86zM5.41 20L4 18.59l7.72-7.72 1.47 1.35L5.41 20z\"/>\n",
              "  </svg>\n",
              "      </button>\n",
              "      \n",
              "  <style>\n",
              "    .colab-df-container {\n",
              "      display:flex;\n",
              "      flex-wrap:wrap;\n",
              "      gap: 12px;\n",
              "    }\n",
              "\n",
              "    .colab-df-convert {\n",
              "      background-color: #E8F0FE;\n",
              "      border: none;\n",
              "      border-radius: 50%;\n",
              "      cursor: pointer;\n",
              "      display: none;\n",
              "      fill: #1967D2;\n",
              "      height: 32px;\n",
              "      padding: 0 0 0 0;\n",
              "      width: 32px;\n",
              "    }\n",
              "\n",
              "    .colab-df-convert:hover {\n",
              "      background-color: #E2EBFA;\n",
              "      box-shadow: 0px 1px 2px rgba(60, 64, 67, 0.3), 0px 1px 3px 1px rgba(60, 64, 67, 0.15);\n",
              "      fill: #174EA6;\n",
              "    }\n",
              "\n",
              "    [theme=dark] .colab-df-convert {\n",
              "      background-color: #3B4455;\n",
              "      fill: #D2E3FC;\n",
              "    }\n",
              "\n",
              "    [theme=dark] .colab-df-convert:hover {\n",
              "      background-color: #434B5C;\n",
              "      box-shadow: 0px 1px 3px 1px rgba(0, 0, 0, 0.15);\n",
              "      filter: drop-shadow(0px 1px 2px rgba(0, 0, 0, 0.3));\n",
              "      fill: #FFFFFF;\n",
              "    }\n",
              "  </style>\n",
              "\n",
              "      <script>\n",
              "        const buttonEl =\n",
              "          document.querySelector('#df-632b9360-e8f5-4e74-8509-e72d55f244a8 button.colab-df-convert');\n",
              "        buttonEl.style.display =\n",
              "          google.colab.kernel.accessAllowed ? 'block' : 'none';\n",
              "\n",
              "        async function convertToInteractive(key) {\n",
              "          const element = document.querySelector('#df-632b9360-e8f5-4e74-8509-e72d55f244a8');\n",
              "          const dataTable =\n",
              "            await google.colab.kernel.invokeFunction('convertToInteractive',\n",
              "                                                     [key], {});\n",
              "          if (!dataTable) return;\n",
              "\n",
              "          const docLinkHtml = 'Like what you see? Visit the ' +\n",
              "            '<a target=\"_blank\" href=https://colab.research.google.com/notebooks/data_table.ipynb>data table notebook</a>'\n",
              "            + ' to learn more about interactive tables.';\n",
              "          element.innerHTML = '';\n",
              "          dataTable['output_type'] = 'display_data';\n",
              "          await google.colab.output.renderOutput(dataTable, element);\n",
              "          const docLink = document.createElement('div');\n",
              "          docLink.innerHTML = docLinkHtml;\n",
              "          element.appendChild(docLink);\n",
              "        }\n",
              "      </script>\n",
              "    </div>\n",
              "  </div>\n",
              "  "
            ]
          },
          "metadata": {},
          "execution_count": 194
        }
      ]
    },
    {
      "cell_type": "markdown",
      "source": [
        "**拉新场景，都需要发优惠券**"
      ],
      "metadata": {
        "id": "4Jh88l0t2eJ3"
      }
    },
    {
      "cell_type": "code",
      "source": [
        "user_id = [3790260]*4 + [4687825]*4 + [5077519]*4 + [7927329]*4\n",
        "coupon_id = [2060114740, 1806204031, 4096652575, 1234832524] * 4\n",
        "coupon_reduce = [20, 10, 10, 0] * 4\n",
        "coupon_threshold = [98, 98, 68, -1] * 4\n",
        "is_convert = []\n",
        "control_convert = []"
      ],
      "metadata": {
        "id": "bedQPJnA2ir9"
      },
      "execution_count": 195,
      "outputs": []
    },
    {
      "cell_type": "code",
      "source": [
        "for _ in range(4):\n",
        "  for _ in range(3):\n",
        "    is_convert.append(random.uniform(0.005, 0.3))\n",
        "  temp = 0\n",
        "  is_convert.append(temp)\n",
        "  control_convert.extend([temp]*4)"
      ],
      "metadata": {
        "id": "s1CHct4U2iuj"
      },
      "execution_count": 196,
      "outputs": []
    },
    {
      "cell_type": "code",
      "source": [
        "data = {'user_id': user_id, 'coupon_id': coupon_id, 'coupon_reduce': coupon_reduce, 'coupon_threshold': coupon_threshold, 'is_convert': is_convert, 'control_convert':control_convert}"
      ],
      "metadata": {
        "id": "P9gPphD72tCx"
      },
      "execution_count": 197,
      "outputs": []
    },
    {
      "cell_type": "code",
      "source": [
        "df_new = pd.DataFrame(data)\n",
        "df_new['expeted_uplift'] = (df_new['is_convert'] - df_new['control_convert']) * df_new['coupon_threshold']"
      ],
      "metadata": {
        "id": "cSpWH7RP2ugk"
      },
      "execution_count": 198,
      "outputs": []
    },
    {
      "cell_type": "code",
      "source": [
        "df_new"
      ],
      "metadata": {
        "colab": {
          "base_uri": "https://localhost:8080/",
          "height": 551
        },
        "id": "RPrx-4FU2ujI",
        "outputId": "e9a6365e-5cae-48c7-9227-7e01c7280712"
      },
      "execution_count": 199,
      "outputs": [
        {
          "output_type": "execute_result",
          "data": {
            "text/plain": [
              "    user_id   coupon_id  coupon_reduce  coupon_threshold  is_convert  \\\n",
              "0   3790260  2060114740             20                98    0.234391   \n",
              "1   3790260  1806204031             10                98    0.291884   \n",
              "2   3790260  4096652575             10                68    0.095974   \n",
              "3   3790260  1234832524              0                -1    0.000000   \n",
              "4   4687825  2060114740             20                98    0.007300   \n",
              "5   4687825  1806204031             10                98    0.291711   \n",
              "6   4687825  4096652575             10                68    0.101929   \n",
              "7   4687825  1234832524              0                -1    0.000000   \n",
              "8   5077519  2060114740             20                98    0.192216   \n",
              "9   5077519  1806204031             10                98    0.006500   \n",
              "10  5077519  4096652575             10                68    0.229796   \n",
              "11  5077519  1234832524              0                -1    0.000000   \n",
              "12  7927329  2060114740             20                98    0.299865   \n",
              "13  7927329  1806204031             10                98    0.144095   \n",
              "14  7927329  4096652575             10                68    0.275139   \n",
              "15  7927329  1234832524              0                -1    0.000000   \n",
              "\n",
              "    control_convert  expeted_uplift  \n",
              "0                 0       22.970321  \n",
              "1                 0       28.604671  \n",
              "2                 0        6.526213  \n",
              "3                 0       -0.000000  \n",
              "4                 0        0.715354  \n",
              "5                 0       28.587705  \n",
              "6                 0        6.931201  \n",
              "7                 0       -0.000000  \n",
              "8                 0       18.837196  \n",
              "9                 0        0.637004  \n",
              "10                0       15.626129  \n",
              "11                0       -0.000000  \n",
              "12                0       29.386749  \n",
              "13                0       14.121287  \n",
              "14                0       18.709472  \n",
              "15                0       -0.000000  "
            ],
            "text/html": [
              "\n",
              "  <div id=\"df-1054c918-9af1-4fdb-b519-52b8a59f3344\">\n",
              "    <div class=\"colab-df-container\">\n",
              "      <div>\n",
              "<style scoped>\n",
              "    .dataframe tbody tr th:only-of-type {\n",
              "        vertical-align: middle;\n",
              "    }\n",
              "\n",
              "    .dataframe tbody tr th {\n",
              "        vertical-align: top;\n",
              "    }\n",
              "\n",
              "    .dataframe thead th {\n",
              "        text-align: right;\n",
              "    }\n",
              "</style>\n",
              "<table border=\"1\" class=\"dataframe\">\n",
              "  <thead>\n",
              "    <tr style=\"text-align: right;\">\n",
              "      <th></th>\n",
              "      <th>user_id</th>\n",
              "      <th>coupon_id</th>\n",
              "      <th>coupon_reduce</th>\n",
              "      <th>coupon_threshold</th>\n",
              "      <th>is_convert</th>\n",
              "      <th>control_convert</th>\n",
              "      <th>expeted_uplift</th>\n",
              "    </tr>\n",
              "  </thead>\n",
              "  <tbody>\n",
              "    <tr>\n",
              "      <th>0</th>\n",
              "      <td>3790260</td>\n",
              "      <td>2060114740</td>\n",
              "      <td>20</td>\n",
              "      <td>98</td>\n",
              "      <td>0.234391</td>\n",
              "      <td>0</td>\n",
              "      <td>22.970321</td>\n",
              "    </tr>\n",
              "    <tr>\n",
              "      <th>1</th>\n",
              "      <td>3790260</td>\n",
              "      <td>1806204031</td>\n",
              "      <td>10</td>\n",
              "      <td>98</td>\n",
              "      <td>0.291884</td>\n",
              "      <td>0</td>\n",
              "      <td>28.604671</td>\n",
              "    </tr>\n",
              "    <tr>\n",
              "      <th>2</th>\n",
              "      <td>3790260</td>\n",
              "      <td>4096652575</td>\n",
              "      <td>10</td>\n",
              "      <td>68</td>\n",
              "      <td>0.095974</td>\n",
              "      <td>0</td>\n",
              "      <td>6.526213</td>\n",
              "    </tr>\n",
              "    <tr>\n",
              "      <th>3</th>\n",
              "      <td>3790260</td>\n",
              "      <td>1234832524</td>\n",
              "      <td>0</td>\n",
              "      <td>-1</td>\n",
              "      <td>0.000000</td>\n",
              "      <td>0</td>\n",
              "      <td>-0.000000</td>\n",
              "    </tr>\n",
              "    <tr>\n",
              "      <th>4</th>\n",
              "      <td>4687825</td>\n",
              "      <td>2060114740</td>\n",
              "      <td>20</td>\n",
              "      <td>98</td>\n",
              "      <td>0.007300</td>\n",
              "      <td>0</td>\n",
              "      <td>0.715354</td>\n",
              "    </tr>\n",
              "    <tr>\n",
              "      <th>5</th>\n",
              "      <td>4687825</td>\n",
              "      <td>1806204031</td>\n",
              "      <td>10</td>\n",
              "      <td>98</td>\n",
              "      <td>0.291711</td>\n",
              "      <td>0</td>\n",
              "      <td>28.587705</td>\n",
              "    </tr>\n",
              "    <tr>\n",
              "      <th>6</th>\n",
              "      <td>4687825</td>\n",
              "      <td>4096652575</td>\n",
              "      <td>10</td>\n",
              "      <td>68</td>\n",
              "      <td>0.101929</td>\n",
              "      <td>0</td>\n",
              "      <td>6.931201</td>\n",
              "    </tr>\n",
              "    <tr>\n",
              "      <th>7</th>\n",
              "      <td>4687825</td>\n",
              "      <td>1234832524</td>\n",
              "      <td>0</td>\n",
              "      <td>-1</td>\n",
              "      <td>0.000000</td>\n",
              "      <td>0</td>\n",
              "      <td>-0.000000</td>\n",
              "    </tr>\n",
              "    <tr>\n",
              "      <th>8</th>\n",
              "      <td>5077519</td>\n",
              "      <td>2060114740</td>\n",
              "      <td>20</td>\n",
              "      <td>98</td>\n",
              "      <td>0.192216</td>\n",
              "      <td>0</td>\n",
              "      <td>18.837196</td>\n",
              "    </tr>\n",
              "    <tr>\n",
              "      <th>9</th>\n",
              "      <td>5077519</td>\n",
              "      <td>1806204031</td>\n",
              "      <td>10</td>\n",
              "      <td>98</td>\n",
              "      <td>0.006500</td>\n",
              "      <td>0</td>\n",
              "      <td>0.637004</td>\n",
              "    </tr>\n",
              "    <tr>\n",
              "      <th>10</th>\n",
              "      <td>5077519</td>\n",
              "      <td>4096652575</td>\n",
              "      <td>10</td>\n",
              "      <td>68</td>\n",
              "      <td>0.229796</td>\n",
              "      <td>0</td>\n",
              "      <td>15.626129</td>\n",
              "    </tr>\n",
              "    <tr>\n",
              "      <th>11</th>\n",
              "      <td>5077519</td>\n",
              "      <td>1234832524</td>\n",
              "      <td>0</td>\n",
              "      <td>-1</td>\n",
              "      <td>0.000000</td>\n",
              "      <td>0</td>\n",
              "      <td>-0.000000</td>\n",
              "    </tr>\n",
              "    <tr>\n",
              "      <th>12</th>\n",
              "      <td>7927329</td>\n",
              "      <td>2060114740</td>\n",
              "      <td>20</td>\n",
              "      <td>98</td>\n",
              "      <td>0.299865</td>\n",
              "      <td>0</td>\n",
              "      <td>29.386749</td>\n",
              "    </tr>\n",
              "    <tr>\n",
              "      <th>13</th>\n",
              "      <td>7927329</td>\n",
              "      <td>1806204031</td>\n",
              "      <td>10</td>\n",
              "      <td>98</td>\n",
              "      <td>0.144095</td>\n",
              "      <td>0</td>\n",
              "      <td>14.121287</td>\n",
              "    </tr>\n",
              "    <tr>\n",
              "      <th>14</th>\n",
              "      <td>7927329</td>\n",
              "      <td>4096652575</td>\n",
              "      <td>10</td>\n",
              "      <td>68</td>\n",
              "      <td>0.275139</td>\n",
              "      <td>0</td>\n",
              "      <td>18.709472</td>\n",
              "    </tr>\n",
              "    <tr>\n",
              "      <th>15</th>\n",
              "      <td>7927329</td>\n",
              "      <td>1234832524</td>\n",
              "      <td>0</td>\n",
              "      <td>-1</td>\n",
              "      <td>0.000000</td>\n",
              "      <td>0</td>\n",
              "      <td>-0.000000</td>\n",
              "    </tr>\n",
              "  </tbody>\n",
              "</table>\n",
              "</div>\n",
              "      <button class=\"colab-df-convert\" onclick=\"convertToInteractive('df-1054c918-9af1-4fdb-b519-52b8a59f3344')\"\n",
              "              title=\"Convert this dataframe to an interactive table.\"\n",
              "              style=\"display:none;\">\n",
              "        \n",
              "  <svg xmlns=\"http://www.w3.org/2000/svg\" height=\"24px\"viewBox=\"0 0 24 24\"\n",
              "       width=\"24px\">\n",
              "    <path d=\"M0 0h24v24H0V0z\" fill=\"none\"/>\n",
              "    <path d=\"M18.56 5.44l.94 2.06.94-2.06 2.06-.94-2.06-.94-.94-2.06-.94 2.06-2.06.94zm-11 1L8.5 8.5l.94-2.06 2.06-.94-2.06-.94L8.5 2.5l-.94 2.06-2.06.94zm10 10l.94 2.06.94-2.06 2.06-.94-2.06-.94-.94-2.06-.94 2.06-2.06.94z\"/><path d=\"M17.41 7.96l-1.37-1.37c-.4-.4-.92-.59-1.43-.59-.52 0-1.04.2-1.43.59L10.3 9.45l-7.72 7.72c-.78.78-.78 2.05 0 2.83L4 21.41c.39.39.9.59 1.41.59.51 0 1.02-.2 1.41-.59l7.78-7.78 2.81-2.81c.8-.78.8-2.07 0-2.86zM5.41 20L4 18.59l7.72-7.72 1.47 1.35L5.41 20z\"/>\n",
              "  </svg>\n",
              "      </button>\n",
              "      \n",
              "  <style>\n",
              "    .colab-df-container {\n",
              "      display:flex;\n",
              "      flex-wrap:wrap;\n",
              "      gap: 12px;\n",
              "    }\n",
              "\n",
              "    .colab-df-convert {\n",
              "      background-color: #E8F0FE;\n",
              "      border: none;\n",
              "      border-radius: 50%;\n",
              "      cursor: pointer;\n",
              "      display: none;\n",
              "      fill: #1967D2;\n",
              "      height: 32px;\n",
              "      padding: 0 0 0 0;\n",
              "      width: 32px;\n",
              "    }\n",
              "\n",
              "    .colab-df-convert:hover {\n",
              "      background-color: #E2EBFA;\n",
              "      box-shadow: 0px 1px 2px rgba(60, 64, 67, 0.3), 0px 1px 3px 1px rgba(60, 64, 67, 0.15);\n",
              "      fill: #174EA6;\n",
              "    }\n",
              "\n",
              "    [theme=dark] .colab-df-convert {\n",
              "      background-color: #3B4455;\n",
              "      fill: #D2E3FC;\n",
              "    }\n",
              "\n",
              "    [theme=dark] .colab-df-convert:hover {\n",
              "      background-color: #434B5C;\n",
              "      box-shadow: 0px 1px 3px 1px rgba(0, 0, 0, 0.15);\n",
              "      filter: drop-shadow(0px 1px 2px rgba(0, 0, 0, 0.3));\n",
              "      fill: #FFFFFF;\n",
              "    }\n",
              "  </style>\n",
              "\n",
              "      <script>\n",
              "        const buttonEl =\n",
              "          document.querySelector('#df-1054c918-9af1-4fdb-b519-52b8a59f3344 button.colab-df-convert');\n",
              "        buttonEl.style.display =\n",
              "          google.colab.kernel.accessAllowed ? 'block' : 'none';\n",
              "\n",
              "        async function convertToInteractive(key) {\n",
              "          const element = document.querySelector('#df-1054c918-9af1-4fdb-b519-52b8a59f3344');\n",
              "          const dataTable =\n",
              "            await google.colab.kernel.invokeFunction('convertToInteractive',\n",
              "                                                     [key], {});\n",
              "          if (!dataTable) return;\n",
              "\n",
              "          const docLinkHtml = 'Like what you see? Visit the ' +\n",
              "            '<a target=\"_blank\" href=https://colab.research.google.com/notebooks/data_table.ipynb>data table notebook</a>'\n",
              "            + ' to learn more about interactive tables.';\n",
              "          element.innerHTML = '';\n",
              "          dataTable['output_type'] = 'display_data';\n",
              "          await google.colab.output.renderOutput(dataTable, element);\n",
              "          const docLink = document.createElement('div');\n",
              "          docLink.innerHTML = docLinkHtml;\n",
              "          element.appendChild(docLink);\n",
              "        }\n",
              "      </script>\n",
              "    </div>\n",
              "  </div>\n",
              "  "
            ]
          },
          "metadata": {},
          "execution_count": 199
        }
      ]
    },
    {
      "cell_type": "markdown",
      "source": [
        "**转为pyspark计算**"
      ],
      "metadata": {
        "id": "ti4_yOn3A2gT"
      }
    },
    {
      "cell_type": "code",
      "source": [
        "# 初始化spark会话\n",
        "spark = SparkSession.builder.getOrCreate()"
      ],
      "metadata": {
        "id": "MnPXwhFN_GcG"
      },
      "execution_count": 200,
      "outputs": []
    },
    {
      "cell_type": "code",
      "source": [
        "spark_df_old = spark.createDataFrame(df_old)\n",
        "spark_df_old.show()"
      ],
      "metadata": {
        "colab": {
          "base_uri": "https://localhost:8080/"
        },
        "id": "W9vxt6rJ3W4O",
        "outputId": "811126d2-5341-47e7-d752-1f5fc04b85f4"
      },
      "execution_count": 201,
      "outputs": [
        {
          "output_type": "stream",
          "name": "stdout",
          "text": [
            "+-------+----------+-------------+----------------+--------------------+--------------------+-------------------+\n",
            "|user_id| coupon_id|coupon_reduce|coupon_threshold|          is_convert|     control_convert|     expeted_uplift|\n",
            "+-------+----------+-------------+----------------+--------------------+--------------------+-------------------+\n",
            "|3790260|2060114740|           20|              60| 0.12316319313373365|0.004986870849788...|  7.090579337036706|\n",
            "|3790260|1806204031|           10|              60|0.031057757985655486|0.004986870849788...| 1.5642532281520158|\n",
            "|3790260|4096652575|           10|              40| 0.04652571646806576|0.004986870849788...| 1.6615538247310881|\n",
            "|3790260|1234832524|            0|              -1|0.004986870849788...|0.004986870849788...|               -0.0|\n",
            "|4687825|2060114740|           20|              60| 0.23814274635997612|5.827660486510183E-4| 14.253598818679507|\n",
            "|4687825|1806204031|           10|              60|  0.0976410841304231|5.827660486510183E-4| 5.8234990849063255|\n",
            "|4687825|4096652575|           10|              40|  0.2890296162829048|5.827660486510183E-4|  11.53787400937015|\n",
            "|4687825|1234832524|            0|              -1|5.827660486510183E-4|5.827660486510183E-4|               -0.0|\n",
            "|5077519|2060114740|           20|              60| 0.12551203406948847|0.001944965600910...|  7.414024108114666|\n",
            "|5077519|1806204031|           10|              60|0.040138863186219814|0.001944965600910...| 2.2916338551185467|\n",
            "|5077519|4096652575|           10|              40|0.011357594869641751|0.001944965600910...|0.37650517074924184|\n",
            "|5077519|1234832524|            0|              -1|0.001944965600910...|0.001944965600910...|               -0.0|\n",
            "|7927329|2060114740|           20|              60|  0.2337632231668512|0.004209022067915...|  13.77325206593612|\n",
            "|7927329|1806204031|           10|              60| 0.03591370672335875|0.004209022067915...| 1.9022810793265728|\n",
            "|7927329|4096652575|           10|              40| 0.26068448401890965|0.004209022067915...| 10.259018478039753|\n",
            "|7927329|1234832524|            0|              -1|0.004209022067915...|0.004209022067915...|               -0.0|\n",
            "+-------+----------+-------------+----------------+--------------------+--------------------+-------------------+\n",
            "\n"
          ]
        }
      ]
    },
    {
      "cell_type": "code",
      "source": [
        "spark_df_new = spark.createDataFrame(df_new)\n",
        "spark_df_new.show()"
      ],
      "metadata": {
        "colab": {
          "base_uri": "https://localhost:8080/"
        },
        "id": "ta97Sx5R_UPw",
        "outputId": "962c5218-3665-492d-9852-4e4fdea05415"
      },
      "execution_count": 202,
      "outputs": [
        {
          "output_type": "stream",
          "name": "stdout",
          "text": [
            "+-------+----------+-------------+----------------+--------------------+---------------+------------------+\n",
            "|user_id| coupon_id|coupon_reduce|coupon_threshold|          is_convert|control_convert|    expeted_uplift|\n",
            "+-------+----------+-------------+----------------+--------------------+---------------+------------------+\n",
            "|3790260|2060114740|           20|              98| 0.23439103142214346|              0| 22.97032107937006|\n",
            "|3790260|1806204031|           10|              98|  0.2918844029483058|              0| 28.60467148893397|\n",
            "|3790260|4096652575|           10|              68| 0.09597372071105824|              0|  6.52621300835196|\n",
            "|3790260|1234832524|            0|              -1|                 0.0|              0|              -0.0|\n",
            "|4687825|2060114740|           20|              98|0.007299530146938252|              0|0.7153539543999486|\n",
            "|4687825|1806204031|           10|              98|  0.2917112767914632|              0|28.587705125563392|\n",
            "|4687825|4096652575|           10|              68| 0.10192943309357004|              0| 6.931201450362763|\n",
            "|4687825|1234832524|            0|              -1|                 0.0|              0|              -0.0|\n",
            "|5077519|2060114740|           20|              98| 0.19221628886193376|              0|18.837196308469508|\n",
            "|5077519|1806204031|           10|              98|0.006500040852708...|              0|0.6370040035654773|\n",
            "|5077519|4096652575|           10|              68| 0.22979602105982014|              0|15.626129432067769|\n",
            "|5077519|1234832524|            0|              -1|                 0.0|              0|              -0.0|\n",
            "|7927329|2060114740|           20|              98|  0.2998647895490668|              0| 29.38674937580855|\n",
            "|7927329|1806204031|           10|              98| 0.14409476524456571|              0| 14.12128699396744|\n",
            "|7927329|4096652575|           10|              68|  0.2751392953193908|              0|18.709472081718573|\n",
            "|7927329|1234832524|            0|              -1|                 0.0|              0|              -0.0|\n",
            "+-------+----------+-------------+----------------+--------------------+---------------+------------------+\n",
            "\n"
          ]
        }
      ]
    },
    {
      "cell_type": "code",
      "source": [
        "result_df_new = spark_df_new.groupby('user_id').agg(\n",
        "    F.collect_list('is_convert').alias('is_convert'),\n",
        "    F.collect_list('coupon_id').alias('coupon_id'),\n",
        "    F.collect_list('coupon_reduce').alias('coupon_reduce'),\n",
        "    F.collect_list('coupon_threshold').alias('coupon_threshold'),\n",
        "    F.collect_list('expeted_uplift').alias('expeted_uplift'),).cache()\n",
        "\n",
        "result_df_new.show()"
      ],
      "metadata": {
        "colab": {
          "base_uri": "https://localhost:8080/"
        },
        "id": "4hMGMHjs3mTb",
        "outputId": "8f14c02d-2408-47b7-8338-4be61991f190"
      },
      "execution_count": 203,
      "outputs": [
        {
          "output_type": "stream",
          "name": "stdout",
          "text": [
            "+-------+--------------------+--------------------+---------------+----------------+--------------------+\n",
            "|user_id|          is_convert|           coupon_id|  coupon_reduce|coupon_threshold|      expeted_uplift|\n",
            "+-------+--------------------+--------------------+---------------+----------------+--------------------+\n",
            "|3790260|[0.23439103142214...|[2060114740, 1806...|[20, 10, 10, 0]|[98, 98, 68, -1]|[22.9703210793700...|\n",
            "|5077519|[0.19221628886193...|[2060114740, 1806...|[20, 10, 10, 0]|[98, 98, 68, -1]|[18.8371963084695...|\n",
            "|4687825|[0.00729953014693...|[2060114740, 1806...|[20, 10, 10, 0]|[98, 98, 68, -1]|[0.71535395439994...|\n",
            "|7927329|[0.29986478954906...|[2060114740, 1806...|[20, 10, 10, 0]|[98, 98, 68, -1]|[29.3867493758085...|\n",
            "+-------+--------------------+--------------------+---------------+----------------+--------------------+\n",
            "\n"
          ]
        }
      ]
    },
    {
      "cell_type": "code",
      "source": [
        "result_df_old = spark_df_old.groupby('user_id').agg(\n",
        "    F.collect_list('is_convert').alias('is_convert'),\n",
        "    F.collect_list('coupon_id').alias('coupon_id'),\n",
        "    F.collect_list('coupon_reduce').alias('coupon_reduce'),\n",
        "    F.collect_list('coupon_threshold').alias('coupon_threshold'),\n",
        "    F.collect_list('expeted_uplift').alias('expeted_uplift'),).cache()\n",
        "\n",
        "result_df_old.show()"
      ],
      "metadata": {
        "colab": {
          "base_uri": "https://localhost:8080/"
        },
        "id": "HlaYp5ki_pSU",
        "outputId": "8cf9b766-55b9-460e-8630-811dd391a30c"
      },
      "execution_count": 204,
      "outputs": [
        {
          "output_type": "stream",
          "name": "stdout",
          "text": [
            "+-------+--------------------+--------------------+---------------+----------------+--------------------+\n",
            "|user_id|          is_convert|           coupon_id|  coupon_reduce|coupon_threshold|      expeted_uplift|\n",
            "+-------+--------------------+--------------------+---------------+----------------+--------------------+\n",
            "|3790260|[0.12316319313373...|[2060114740, 1806...|[20, 10, 10, 0]|[60, 60, 40, -1]|[7.09057933703670...|\n",
            "|5077519|[0.12551203406948...|[2060114740, 1806...|[20, 10, 10, 0]|[60, 60, 40, -1]|[7.41402410811466...|\n",
            "|4687825|[0.23814274635997...|[2060114740, 1806...|[20, 10, 10, 0]|[60, 60, 40, -1]|[14.2535988186795...|\n",
            "|7927329|[0.23376322316685...|[2060114740, 1806...|[20, 10, 10, 0]|[60, 60, 40, -1]|[13.7732520659361...|\n",
            "+-------+--------------------+--------------------+---------------+----------------+--------------------+\n",
            "\n"
          ]
        }
      ]
    },
    {
      "cell_type": "markdown",
      "source": [
        "**MCKP求解**"
      ],
      "metadata": {
        "id": "Cofj2GtVA98k"
      }
    },
    {
      "cell_type": "code",
      "source": [
        "epoch = 1000\n",
        "B = 50\n",
        "C = 3 * B\n",
        "alpha = 1 / B\n",
        "lr_decay = 0.98"
      ],
      "metadata": {
        "id": "SBWTQKd8ATYu"
      },
      "execution_count": 211,
      "outputs": []
    },
    {
      "cell_type": "code",
      "source": [
        "def MCKP(df, epoch, B, C, alpha, lr_decay=1):\n",
        "    N = df.count()\n",
        "    lambda_B = 0\n",
        "    lambda_C = 0\n",
        "\n",
        "    for _ in tqdm(range(epoch)):\n",
        "\n",
        "        temp = df.cache()\n",
        "\n",
        "        # 固定lambda，更新xij，选择收益最大的优惠券\n",
        "        temp = temp.withColumn('score', F.expr('zip_with(is_convert, coupon_reduce, (x, y) -> (x - %f * y))' % (lambda_B)))\n",
        "        temp = temp.withColumn('score', F.expr('zip_with(score, expeted_uplift, (x, y) -> (x + %f * y))' % (lambda_C)))\n",
        "        temp = temp.withColumn('choice', F.expr('array_position(score, array_max(score)) - 1'))\n",
        "\n",
        "        # 固定优惠券，更新lambda\n",
        "        delta_B = temp.select(F.sum(F.col('coupon_reduce')[F.col('choice')])).collect()[0][0]\n",
        "        lambda_B = max(0, lambda_B - alpha * (B - delta_B)/N)\n",
        "\n",
        "        delta_C = temp.select(F.sum(F.col('expeted_uplift')[F.col('choice')])).collect()[0][0]\n",
        "        lambda_C = max(0, lambda_C - alpha * (delta_C - C)/N)\n",
        "\n",
        "        if _ % 100 == 0:\n",
        "            print(\"epoch: {0}, lambda_B: {1}, lambda_C: {2}\".format(_, lambda_B, lambda_C))\n",
        "\n",
        "        alpha *= lr_decay\n",
        "        temp.unpersist()\n",
        "\n",
        "    return temp"
      ],
      "metadata": {
        "id": "udrVJPadAiJS"
      },
      "execution_count": 212,
      "outputs": []
    },
    {
      "cell_type": "code",
      "source": [
        "result_old = MCKP(result_df_old, epoch, B, C, alpha, lr_decay)"
      ],
      "metadata": {
        "colab": {
          "base_uri": "https://localhost:8080/"
        },
        "id": "wEs3XBK-AkQj",
        "outputId": "dd61c9cb-b852-4265-92ea-50be9a8c605a"
      },
      "execution_count": 213,
      "outputs": [
        {
          "metadata": {
            "tags": null
          },
          "name": "stderr",
          "output_type": "stream",
          "text": [
            "  0%|          | 1/1000 [00:02<39:22,  2.36s/it]"
          ]
        },
        {
          "metadata": {
            "tags": null
          },
          "name": "stdout",
          "output_type": "stream",
          "text": [
            "epoch: 0, lambda_B: 0.05, lambda_C: 0.5684925203371937\n"
          ]
        },
        {
          "metadata": {
            "tags": null
          },
          "name": "stderr",
          "output_type": "stream",
          "text": [
            " 10%|█         | 101/1000 [04:25<40:30,  2.70s/it]"
          ]
        },
        {
          "metadata": {
            "tags": null
          },
          "name": "stdout",
          "output_type": "stream",
          "text": [
            "epoch: 100, lambda_B: 6.352429626889687, lambda_C: 23.42621565852137\n"
          ]
        },
        {
          "metadata": {
            "tags": null
          },
          "name": "stderr",
          "output_type": "stream",
          "text": [
            " 20%|██        | 201/1000 [09:36<50:06,  3.76s/it]"
          ]
        },
        {
          "metadata": {
            "tags": null
          },
          "name": "stdout",
          "output_type": "stream",
          "text": [
            "epoch: 200, lambda_B: 7.179819469577523, lambda_C: 26.459887620035992\n"
          ]
        },
        {
          "metadata": {
            "tags": null
          },
          "name": "stderr",
          "output_type": "stream",
          "text": [
            " 30%|███       | 301/1000 [14:41<27:41,  2.38s/it]"
          ]
        },
        {
          "metadata": {
            "tags": null
          },
          "name": "stdout",
          "output_type": "stream",
          "text": [
            "epoch: 300, lambda_B: 7.2898887456084225, lambda_C: 26.86211918708165\n"
          ]
        },
        {
          "metadata": {
            "tags": null
          },
          "name": "stderr",
          "output_type": "stream",
          "text": [
            " 40%|████      | 401/1000 [19:09<29:31,  2.96s/it]"
          ]
        },
        {
          "metadata": {
            "tags": null
          },
          "name": "stdout",
          "output_type": "stream",
          "text": [
            "epoch: 400, lambda_B: 7.304406161535446, lambda_C: 26.915484663642843\n"
          ]
        },
        {
          "metadata": {
            "tags": null
          },
          "name": "stderr",
          "output_type": "stream",
          "text": [
            " 50%|█████     | 501/1000 [23:30<21:03,  2.53s/it]"
          ]
        },
        {
          "metadata": {
            "tags": null
          },
          "name": "stdout",
          "output_type": "stream",
          "text": [
            "epoch: 500, lambda_B: 7.306335872308865, lambda_C: 26.922560769767504\n"
          ]
        },
        {
          "metadata": {
            "tags": null
          },
          "name": "stderr",
          "output_type": "stream",
          "text": [
            " 60%|██████    | 601/1000 [28:00<16:52,  2.54s/it]"
          ]
        },
        {
          "metadata": {
            "tags": null
          },
          "name": "stdout",
          "output_type": "stream",
          "text": [
            "epoch: 600, lambda_B: 7.306592049519486, lambda_C: 26.923499129257944\n"
          ]
        },
        {
          "metadata": {
            "tags": null
          },
          "name": "stderr",
          "output_type": "stream",
          "text": [
            " 70%|███████   | 701/1000 [32:23<12:23,  2.49s/it]"
          ]
        },
        {
          "metadata": {
            "tags": null
          },
          "name": "stdout",
          "output_type": "stream",
          "text": [
            "epoch: 700, lambda_B: 7.306626115812677, lambda_C: 26.92362354904184\n"
          ]
        },
        {
          "metadata": {
            "tags": null
          },
          "name": "stderr",
          "output_type": "stream",
          "text": [
            " 80%|████████  | 801/1000 [36:51<10:49,  3.26s/it]"
          ]
        },
        {
          "metadata": {
            "tags": null
          },
          "name": "stdout",
          "output_type": "stream",
          "text": [
            "epoch: 800, lambda_B: 7.30663058522406, lambda_C: 26.923640062694737\n"
          ]
        },
        {
          "metadata": {
            "tags": null
          },
          "name": "stderr",
          "output_type": "stream",
          "text": [
            " 90%|█████████ | 901/1000 [42:40<04:37,  2.81s/it]"
          ]
        },
        {
          "metadata": {
            "tags": null
          },
          "name": "stdout",
          "output_type": "stream",
          "text": [
            "epoch: 900, lambda_B: 7.306631195262946, lambda_C: 26.92364224802779\n"
          ]
        },
        {
          "output_type": "stream",
          "name": "stderr",
          "text": [
            "100%|██████████| 1000/1000 [47:06<00:00,  2.83s/it]\n"
          ]
        }
      ]
    },
    {
      "cell_type": "code",
      "source": [
        "result_old = result_old.withColumn('choose_coupon', F.col('coupon_id')[F.col('choice')])"
      ],
      "metadata": {
        "id": "RHFzkJmKAm8X"
      },
      "execution_count": 214,
      "outputs": []
    },
    {
      "cell_type": "code",
      "source": [
        "result_old.show()"
      ],
      "metadata": {
        "colab": {
          "base_uri": "https://localhost:8080/"
        },
        "id": "ujHSTH1MCFzX",
        "outputId": "0a8b650d-d964-4e17-963f-106ec69662ef"
      },
      "execution_count": 215,
      "outputs": [
        {
          "output_type": "stream",
          "name": "stdout",
          "text": [
            "+-------+--------------------+--------------------+---------------+----------------+--------------------+--------------------+------+-------------+\n",
            "|user_id|          is_convert|           coupon_id|  coupon_reduce|coupon_threshold|      expeted_uplift|               score|choice|choose_coupon|\n",
            "+-------+--------------------+--------------------+---------------+----------------+--------------------+--------------------+------+-------------+\n",
            "|3790260|[0.12316319313373...|[2060114740, 1806...|[20, 10, 10, 0]|[60, 60, 40, -1]|[7.09057933703670...|[44.8947699266866...|     0|   2060114740|\n",
            "|5077519|[0.12551203406948...|[2060114740, 1806...|[20, 10, 10, 0]|[60, 60, 40, -1]|[7.41402410811466...|[53.6054303143421...|     0|   2060114740|\n",
            "|4687825|[0.23814274635997...|[2060114740, 1806...|[20, 10, 10, 0]|[60, 60, 40, -1]|[14.2535988186795...|[237.864328805708...|     0|   2060114740|\n",
            "|7927329|[0.23376322316685...|[2060114740, 1806...|[20, 10, 10, 0]|[60, 60, 40, -1]|[13.7732520659361...|[224.927264795443...|     0|   2060114740|\n",
            "+-------+--------------------+--------------------+---------------+----------------+--------------------+--------------------+------+-------------+\n",
            "\n"
          ]
        }
      ]
    },
    {
      "cell_type": "code",
      "source": [
        "result_new = MCKP(result_df_new, epoch, B, C, alpha, lr_decay)"
      ],
      "metadata": {
        "colab": {
          "base_uri": "https://localhost:8080/"
        },
        "id": "K68swAR2BV1p",
        "outputId": "a34ad0bf-870c-4a0a-e9d9-5ba680a25b87"
      },
      "execution_count": 216,
      "outputs": [
        {
          "metadata": {
            "tags": null
          },
          "name": "stderr",
          "output_type": "stream",
          "text": [
            "  0%|          | 1/1000 [00:03<56:18,  3.38s/it]"
          ]
        },
        {
          "metadata": {
            "tags": null
          },
          "name": "stdout",
          "output_type": "stream",
          "text": [
            "epoch: 0, lambda_B: 0, lambda_C: 0.2389737228881316\n"
          ]
        },
        {
          "metadata": {
            "tags": null
          },
          "name": "stderr",
          "output_type": "stream",
          "text": [
            " 10%|█         | 101/1000 [04:35<36:42,  2.45s/it]"
          ]
        },
        {
          "metadata": {
            "tags": null
          },
          "name": "stdout",
          "output_type": "stream",
          "text": [
            "epoch: 100, lambda_B: 2.125082088057853, lambda_C: 9.713371213149808\n"
          ]
        },
        {
          "metadata": {
            "tags": null
          },
          "name": "stderr",
          "output_type": "stream",
          "text": [
            " 20%|██        | 201/1000 [09:04<35:45,  2.69s/it]"
          ]
        },
        {
          "metadata": {
            "tags": null
          },
          "name": "stdout",
          "output_type": "stream",
          "text": [
            "epoch: 200, lambda_B: 2.406909530815979, lambda_C: 10.969861600678671\n"
          ]
        },
        {
          "metadata": {
            "tags": null
          },
          "name": "stderr",
          "output_type": "stream",
          "text": [
            " 30%|███       | 301/1000 [13:28<28:09,  2.42s/it]"
          ]
        },
        {
          "metadata": {
            "tags": null
          },
          "name": "stdout",
          "output_type": "stream",
          "text": [
            "epoch: 300, lambda_B: 2.444285361113513, lambda_C: 11.136496797858774\n"
          ]
        },
        {
          "metadata": {
            "tags": null
          },
          "name": "stderr",
          "output_type": "stream",
          "text": [
            " 40%|████      | 401/1000 [17:53<25:53,  2.59s/it]"
          ]
        },
        {
          "metadata": {
            "tags": null
          },
          "name": "stdout",
          "output_type": "stream",
          "text": [
            "epoch: 400, lambda_B: 2.4492421271287705, lambda_C: 11.158595883705239\n"
          ]
        },
        {
          "metadata": {
            "tags": null
          },
          "name": "stderr",
          "output_type": "stream",
          "text": [
            " 50%|█████     | 501/1000 [23:08<30:18,  3.64s/it]"
          ]
        },
        {
          "metadata": {
            "tags": null
          },
          "name": "stdout",
          "output_type": "stream",
          "text": [
            "epoch: 500, lambda_B: 2.4498994912363896, lambda_C: 11.161526654655887\n"
          ]
        },
        {
          "metadata": {
            "tags": null
          },
          "name": "stderr",
          "output_type": "stream",
          "text": [
            " 60%|██████    | 601/1000 [28:09<16:42,  2.51s/it]"
          ]
        },
        {
          "metadata": {
            "tags": null
          },
          "name": "stdout",
          "output_type": "stream",
          "text": [
            "epoch: 600, lambda_B: 2.4499866705724016, lambda_C: 11.161915332197788\n"
          ]
        },
        {
          "metadata": {
            "tags": null
          },
          "name": "stderr",
          "output_type": "stream",
          "text": [
            " 70%|███████   | 701/1000 [32:33<13:19,  2.67s/it]"
          ]
        },
        {
          "metadata": {
            "tags": null
          },
          "name": "stdout",
          "output_type": "stream",
          "text": [
            "epoch: 700, lambda_B: 2.4499982322572262, lambda_C: 11.161966878440788\n"
          ]
        },
        {
          "metadata": {
            "tags": null
          },
          "name": "stderr",
          "output_type": "stream",
          "text": [
            " 80%|████████  | 801/1000 [37:10<08:19,  2.51s/it]"
          ]
        },
        {
          "metadata": {
            "tags": null
          },
          "name": "stdout",
          "output_type": "stream",
          "text": [
            "epoch: 800, lambda_B: 2.4499997655627324, lambda_C: 11.161973714480649\n"
          ]
        },
        {
          "metadata": {
            "tags": null
          },
          "name": "stderr",
          "output_type": "stream",
          "text": [
            " 90%|█████████ | 901/1000 [41:32<04:02,  2.44s/it]"
          ]
        },
        {
          "metadata": {
            "tags": null
          },
          "name": "stdout",
          "output_type": "stream",
          "text": [
            "epoch: 900, lambda_B: 2.449999968909026, lambda_C: 11.161974621073217\n"
          ]
        },
        {
          "output_type": "stream",
          "name": "stderr",
          "text": [
            "100%|██████████| 1000/1000 [45:59<00:00,  2.76s/it]\n"
          ]
        }
      ]
    },
    {
      "cell_type": "code",
      "source": [
        "result_new = result_new.withColumn('choose_coupon', F.col('coupon_id')[F.col('choice')])"
      ],
      "metadata": {
        "id": "AK7NRumXBV4M"
      },
      "execution_count": 217,
      "outputs": []
    },
    {
      "cell_type": "code",
      "source": [
        "result_new.show()"
      ],
      "metadata": {
        "colab": {
          "base_uri": "https://localhost:8080/"
        },
        "id": "NsnavUPjCwkk",
        "outputId": "a1cae023-f5e8-45c9-e309-bcf652d7f868"
      },
      "execution_count": 218,
      "outputs": [
        {
          "output_type": "stream",
          "name": "stdout",
          "text": [
            "+-------+--------------------+--------------------+---------------+----------------+--------------------+--------------------+------+-------------+\n",
            "|user_id|          is_convert|           coupon_id|  coupon_reduce|coupon_threshold|      expeted_uplift|               score|choice|choose_coupon|\n",
            "+-------+--------------------+--------------------+---------------+----------------+--------------------+--------------------+------+-------------+\n",
            "|3790260|[0.23439103142214...|[2060114740, 1806...|[20, 10, 10, 0]|[98, 98, 68, -1]|[22.9703210793700...|[207.628540661323...|     1|   1806204031|\n",
            "|5077519|[0.19221628886193...|[2060114740, 1806...|[20, 10, 10, 0]|[98, 98, 68, -1]|[18.8371963084695...|[161.452530554090...|     0|   2060114740|\n",
            "|4687825|[0.00729953014693...|[2060114740, 1806...|[20, 10, 10, 0]|[98, 98, 68, -1]|[0.71535395439994...|[-41.007937514689...|     1|   1806204031|\n",
            "|7927329|[0.29986478954906...|[2060114740, 1806...|[20, 10, 10, 0]|[98, 98, 68, -1]|[29.3867493758085...|[279.314026653589...|     0|   2060114740|\n",
            "+-------+--------------------+--------------------+---------------+----------------+--------------------+--------------------+------+-------------+\n",
            "\n"
          ]
        }
      ]
    },
    {
      "cell_type": "code",
      "source": [],
      "metadata": {
        "id": "nRjNTzvACCvK"
      },
      "execution_count": null,
      "outputs": []
    }
  ]
}